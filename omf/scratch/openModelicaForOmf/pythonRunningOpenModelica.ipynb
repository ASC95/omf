{
 "metadata": {
  "name": ""
 },
 "nbformat": 3,
 "nbformat_minor": 0,
 "worksheets": [
  {
   "cells": [
    {
     "cell_type": "code",
     "collapsed": false,
     "input": [
      "import os\n",
      "from matplotlib import pyplot as plt"
     ],
     "language": "python",
     "metadata": {},
     "outputs": [],
     "prompt_number": 16
    },
    {
     "cell_type": "code",
     "collapsed": false,
     "input": [
      "ls"
     ],
     "language": "python",
     "metadata": {},
     "outputs": [
      {
       "output_type": "stream",
       "stream": "stdout",
       "text": [
        " Volume in drive C is Windows7\n",
        " Volume Serial Number is B2D8-5773\n",
        "\n",
        " Directory of C:\\Users\\dwp0\\Dropbox\\OMF\\omf\\scratch\\openModelicaForOmf\n",
        "\n",
        "01/30/2014  11:48 AM    <DIR>          .\n",
        "01/30/2014  11:48 AM    <DIR>          ..\n",
        "01/30/2014  11:48 AM    <DIR>          .ipynb_checkpoints\n",
        "01/31/2014  12:52 PM             8,849 pythonRunningOpenModelica.ipynb\n",
        "01/21/2014  12:18 PM                83 runTransformer.mos\n",
        "01/21/2014  04:45 PM            50,683 SimpleTransformerPinney.c\n",
        "01/21/2014  04:45 PM        10,260,359 SimpleTransformerPinney.exe\n",
        "01/21/2014  04:45 PM                 0 SimpleTransformerPinney.libs\n",
        "01/21/2014  04:45 PM                 0 SimpleTransformerPinney.log\n",
        "01/21/2014  04:45 PM             1,810 SimpleTransformerPinney.makefile\n",
        "01/21/2014  04:45 PM            39,694 SimpleTransformerPinney.o\n",
        "01/21/2014  04:45 PM             1,452 SimpleTransformerPinney_functions.c\n",
        "01/21/2014  04:45 PM               284 SimpleTransformerPinney_functions.h\n",
        "01/21/2014  04:45 PM           163,058 SimpleTransformerPinney_info.xml\n",
        "01/21/2014  04:45 PM            68,235 SimpleTransformerPinney_init.xml\n",
        "01/21/2014  04:45 PM            29,688 SimpleTransformerPinney_model.h\n",
        "01/21/2014  04:45 PM               143 SimpleTransformerPinney_records.c\n",
        "01/21/2014  04:45 PM               452 SimpleTransformerPinney_records.o\n",
        "01/21/2014  04:45 PM         9,614,975 SimpleTransformerPinney_res.mat\n",
        "01/21/2014  03:54 PM             4,949 transformer.mo\n",
        "              17 File(s)     20,244,714 bytes\n",
        "               3 Dir(s)  11,965,181,952 bytes free\n"
       ]
      }
     ],
     "prompt_number": 13
    },
    {
     "cell_type": "code",
     "collapsed": false,
     "input": [
      "import OMPython"
     ],
     "language": "python",
     "metadata": {},
     "outputs": [
      {
       "output_type": "stream",
       "stream": "stdout",
       "text": [
        "OMC Server is up and running at file:///c:\\users\\dwp0\\appdata\\local\\temp\\openmodelica.objid.72a8d995c8f54ccfa774d1363e431558\n",
        "\n"
       ]
      }
     ],
     "prompt_number": 2
    },
    {
     "cell_type": "code",
     "collapsed": false,
     "input": [
      "OMPython.execute('loadModel(Modelica)')\n",
      "OMPython.execute('loadFile(\"transformer.mo\")')\n",
      "OMPython.execute('simulate(SimpleTransformerPinney)')"
     ],
     "language": "python",
     "metadata": {},
     "outputs": [
      {
       "metadata": {},
       "output_type": "pyout",
       "prompt_number": 3,
       "text": [
        "{'SimulationOptions': {'cflags': \"''\",\n",
        "  'fileNamePrefix': \"'SimpleTransformerPinney'\",\n",
        "  'measureTime': False,\n",
        "  'method': \"'dassl'\",\n",
        "  'numberOfIntervals': 50000,\n",
        "  'options': \"''\",\n",
        "  'outputFormat': \"'mat'\",\n",
        "  'simflags': \"''\",\n",
        "  'startTime': 0.0,\n",
        "  'stopTime': 50.0,\n",
        "  'tolerance': 1e-06,\n",
        "  'variableFilter': \"'.*'\"},\n",
        " 'SimulationResults': {'messages': '\"\"',\n",
        "  'resultFile': '\"C:/Users/dwp0/Dropbox/OMF/openModelicaForOmf/SimpleTransformerPinney_res.mat\"',\n",
        "  'timeBackend': 0.02080533671405717,\n",
        "  'timeCompile': 2.627785022186,\n",
        "  'timeFrontend': 0.22333665368710193,\n",
        "  'timeSimCode': 0.006855926831476953,\n",
        "  'timeSimulation': 0.9621654743578134,\n",
        "  'timeTemplates': 0.14032599837000814,\n",
        "  'timeTotal': 3.9869872317305}}"
       ]
      }
     ],
     "prompt_number": 3
    },
    {
     "cell_type": "code",
     "collapsed": false,
     "input": [
      "# Do stuff with the results.\n",
      "import scipy.io as sio\n",
      "outMat = sio.loadmat(\"SimpleTransformerPinney_res.mat\")\n",
      "print outMat.keys()"
     ],
     "language": "python",
     "metadata": {},
     "outputs": [
      {
       "output_type": "stream",
       "stream": "stdout",
       "text": [
        "['Aclass', 'dataInfo', 'name', 'data_2', 'data_1', 'description']\n"
       ]
      }
     ],
     "prompt_number": 12
    },
    {
     "cell_type": "code",
     "collapsed": false,
     "input": [
      "dat1 = outMat['data_1'] \n",
      "print 'First three data points:\\n', dat1[0:3]\n",
      "plot(dat1)"
     ],
     "language": "python",
     "metadata": {},
     "outputs": [
      {
       "output_type": "stream",
       "stream": "stdout",
       "text": [
        "First three data points:\n",
        "[[  0.   50. ]\n",
        " [  0.1   0.1]\n",
        " [  0.1   0.1]]\n"
       ]
      },
      {
       "metadata": {},
       "output_type": "pyout",
       "prompt_number": 26,
       "text": [
        "[<matplotlib.lines.Line2D at 0xa8f7ff0>,\n",
        " <matplotlib.lines.Line2D at 0xa906150>]"
       ]
      },
      {
       "metadata": {},
       "output_type": "display_data",
       "png": "[encoded data removed]",
       "text": [
        "<matplotlib.figure.Figure at 0xa8ad370>"
       ]
      }
     ],
     "prompt_number": 26
    },
    {
     "cell_type": "code",
     "collapsed": false,
     "input": [
      "dat2 = outMat['data_2']\n",
      "# WARNING: DAT2 IS ENORMOUS\n",
      "plot(dat2)\n",
      "print 'Data preview:\\n', dat2"
     ],
     "language": "python",
     "metadata": {},
     "outputs": [
      {
       "output_type": "stream",
       "stream": "stdout",
       "text": [
        "Data preview:\n",
        "[[  0.00000000e+00   1.00000000e-03   2.00000000e-03 ...,   5.00000000e+01\n",
        "    5.00000000e+01   5.00000000e+01]\n",
        " [  0.00000000e+00  -1.84891058e-01  -2.81751794e-01 ...,  -2.02120551e-01\n",
        "   -2.02120551e-01  -2.02120551e-01]\n",
        " [  0.00000000e+00   9.32323537e-02   1.42661747e-01 ...,   9.64810610e+00\n",
        "    9.64810610e+00   9.64810610e+00]\n",
        " ..., \n",
        " [  1.00000000e-02   1.00000000e-02   1.00000000e-02 ...,   1.00000000e-02\n",
        "    1.00000000e-02   1.00000000e-02]\n",
        " [  0.00000000e+00   0.00000000e+00   0.00000000e+00 ...,   0.00000000e+00\n",
        "    0.00000000e+00   0.00000000e+00]\n",
        " [  0.00000000e+00   0.00000000e+00   0.00000000e+00 ...,   0.00000000e+00\n",
        "    0.00000000e+00   0.00000000e+00]]\n"
       ]
      },
      {
       "metadata": {},
       "output_type": "display_data",
       "png": "[encoded data removed]",
       "text": [
        "<matplotlib.figure.Figure at 0x3b396210>"
       ]
      }
     ],
     "prompt_number": 33
    },
    {
     "cell_type": "code",
     "collapsed": false,
     "input": [
      "# Cleanup when we're finished (?).\n",
      "OMPython.server.kill()"
     ],
     "language": "python",
     "metadata": {},
     "outputs": []
    }
   ],
   "metadata": {}
  }
 ]
}