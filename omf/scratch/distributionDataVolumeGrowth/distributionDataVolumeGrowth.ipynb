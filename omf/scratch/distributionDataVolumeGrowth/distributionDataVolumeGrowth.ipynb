{
 "metadata": {
  "name": ""
 },
 "nbformat": 3,
 "nbformat_minor": 0,
 "worksheets": [
  {
   "cells": [
    {
     "cell_type": "markdown",
     "metadata": {},
     "source": [
      "# For AMI data, what are sustained data rate and storage requirements?"
     ]
    },
    {
     "cell_type": "markdown",
     "metadata": {},
     "source": [
      "## Conclusion:\n",
      "For a very data-intensive AMI deployment at the largest distribution coop (Pedernales), you would expect to need 12 Kbps sustained DB insertion rate, and 0.4 TB/year of storage. This would cost 100 USD/month to rent from amazon at Jan 2014 prices and much less for purchased hardware."
     ]
    },
    {
     "cell_type": "markdown",
     "metadata": {},
     "source": [
      "## Analysis\n",
      "Consider constants for the max data volume one distribution coop might want.\n",
      "\n",
      "- We use a meter count from Pedernales (largest coop) in 2011.\n",
      "- Assume we read every meter four times per hour.\n",
      "- In each read we gather a very large:\n",
      "    - 9 standard precision (24 sig figs) floats at 4 bytes each for the complex power variables (Vmin, Vmax, Imin, Imax) and one real energy consumption variable.\n",
      "    - One device ID string (5 bytes = 1 trillion possible IDs) and Timestamp (4 Bytes).\n",
      "\n",
      "Storage sizes come from http://dev.mysql.com/doc/refman/5.1/en/storage-requirements.html. Other databases will have basically identical space requirements.\n",
      "\n",
      "For this analysis, we assume no compression either during transfer or storage, and we assume no header overhead on transfer. We suspect this means that our estimates are about right for data rates (headers and compression would cancel out) and high for storage sizes."
     ]
    },
    {
     "cell_type": "code",
     "collapsed": false,
     "input": [
      "meters = 239665\n",
      "freq = 4\n",
      "readBytes = 4 * 9 + 5 + 4"
     ],
     "language": "python",
     "metadata": {},
     "outputs": [],
     "prompt_number": 49
    },
    {
     "cell_type": "markdown",
     "metadata": {},
     "source": [
      "Daily data volume is approximately 1 GB/day:"
     ]
    },
    {
     "cell_type": "code",
     "collapsed": false,
     "input": [
      "dailyVolume = meters*(freq*24)*readBytes/(10.0**9)\n",
      "print 'dailyData:', dailyVolume "
     ],
     "language": "python",
     "metadata": {},
     "outputs": [
      {
       "output_type": "stream",
       "stream": "stdout",
       "text": [
        "dailyData: 1.0353528\n"
       ]
      }
     ],
     "prompt_number": 50
    },
    {
     "cell_type": "markdown",
     "metadata": {},
     "source": [
      "Sustained data transmission and DBMS IO of about 12 kilobytes/second:"
     ]
    },
    {
     "cell_type": "code",
     "collapsed": false,
     "input": [
      "kilobytesPerHour = meters*freq*readBytes/(10.0**3)\n",
      "print 'kBps:', kilobytesPerHour/(60*60)"
     ],
     "language": "python",
     "metadata": {},
     "outputs": [
      {
       "output_type": "stream",
       "stream": "stdout",
       "text": [
        "kBps: 11.98325\n"
       ]
      }
     ],
     "prompt_number": 51
    },
    {
     "cell_type": "markdown",
     "metadata": {},
     "source": [
      "Assume the data goes to an Amazon Web Services (AWS) Postgres database. Given AWS on-demand prices (http://aws.amazon.com/rds/pricing/postgresql/) and the above workload, you would expect to pay about \n",
      "For a year's worth of storage and IO, we would expect to pay $100/month to rent this much capacity at Jan 2014 prices.\n",
      "\n",
      "For data write performance, we should note that we would need 300 IOPS (input-output operations per second) but AWS will sell up to 100 times this capacity.\n",
      "\n",
      "Cost of hardware hosted on utility premises would be much cheaper.\n",
      "\n",
      "Full AWS calculations: http://calculator.s3.amazonaws.com/calc5.html#r=IAD&s=RDS&key=calc-223BDA60-4AD6-46CD-B57F-544EEF23538E"
     ]
    },
    {
     "cell_type": "code",
     "collapsed": false,
     "input": [
      "print 'IOPS needed:', meters*freq/(60*60)\n",
      "print 'Annual storage GB needed:', dailyVolume*365"
     ],
     "language": "python",
     "metadata": {},
     "outputs": [
      {
       "output_type": "stream",
       "stream": "stdout",
       "text": [
        "IOPS needed: 266\n",
        "Annual storage GB needed: 377.903772\n"
       ]
      }
     ],
     "prompt_number": 52
    }
   ],
   "metadata": {}
  }
 ]
}