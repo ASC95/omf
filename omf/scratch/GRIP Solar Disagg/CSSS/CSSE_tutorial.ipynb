{
 "cells": [
  {
   "cell_type": "markdown",
   "metadata": {},
   "source": [
    "# Contextually Supervised Source Separation (CSSS)\n",
    "This packages deploys contextually supervised source separation (CSSS) techniques in python. CSSS was originally decribed by Wytock and Kolter in [1] and we follow their original notation in this docuemntation.  We also include updates and extensions of the origianl CSSS method as created by the authors of this package in their applied work [2-4]. \t\n",
    "\n",
    "CSSS is the disaggregation of a time series of source signals from observations of their sum. The below equation displays this problem where the vector $\\bar y$ is observed and each source signal, $y_i$ is unobserved. \n",
    "\\begin{equation}\n",
    "\\bar y = \\sum_{i=0}^{k} y_i\n",
    "\\end{equation}\n",
    "\n",
    "Contextual separation is achieved by (A) relating each source signal to exogenous observations, and (B) exploiting known regularity in the source signals. \n",
    "The equation below displays the general form of this optimization as presented in [1]. $\\ell_i()$ is a cost function to fit the source signal, $y_i$ to the exogenous variables, $X_i$, using a linear transformation with parameters $\\theta_i$; $g_i()$ is a regularization term applied to the source signal which would elicit smoothness or other periodic regularity; and $h_i()$ is a regularization term for the parameters $\\theta_i$. \n",
    "\n",
    "\\begin{align}\n",
    "\\min_{Y,\\theta}\\hspace{5mm}& \\sum_{i=0}^{k} \\{ \\ell_i(y_i, X_i \\theta_i) + g_i(y_i) + h_i(\\theta_i)\\}\\\\\n",
    "\\mbox{s.t.,}\\hspace{5mm}&  \\bar y = \\sum_{i=0}^{k} y_i\n",
    "\\end{align}\n"
   ]
  },
  {
   "cell_type": "code",
   "execution_count": 1,
   "metadata": {},
   "outputs": [],
   "source": [
    "import pandas as pd\n",
    "import seaborn as sns\n",
    "import matplotlib.pyplot as plt\n",
    "import numpy as np\n",
    "import cvxpy \n",
    "import csss as CSSS\n",
    "import time \n",
    "%matplotlib inline"
   ]
  },
  {
   "cell_type": "markdown",
   "metadata": {},
   "source": [
    "# Tutorial Data\n",
    "We generate a basic set of data for this tutorial. \n",
    "The source signals, Y1 and Y2 are constucted by adding white noise to univariate context variables: X1, and X2. \n",
    "- X1 contains a sin wave (period 10, amplitude 50) and an intercept term of 10. \n",
    "- X2 is a trend that increases linearly with time. "
   ]
  },
  {
   "cell_type": "code",
   "execution_count": 2,
   "metadata": {},
   "outputs": [],
   "source": [
    "## Create an example case where we separate two signals based on sin functions. \n",
    "N = 10\n",
    "\n",
    "### Generate signal Y1 from covaraites X11 and X12\n",
    "X12 = np.sin(np.arange(N)*2*np.pi/N)*50 \n",
    "X11 = np.ones(N)\n",
    "X1  = np.vstack([X11,X12]).transpose()\n",
    "Y1  = X1[:,0] * 10 + X1[:,1] + np.random.normal(0,4,N) \n",
    "\n",
    "## Generate signal Y2 from covariates X2\n",
    "X2 = np.array([5*elem+2 for elem in range(0,N)])\n",
    "Y2 = X2 + np.random.normal(0,5,N)\n",
    "\n",
    "## Generate Aggregate Signal, Y\n",
    "Y = Y1 + Y2\n"
   ]
  },
  {
   "cell_type": "code",
   "execution_count": 3,
   "metadata": {},
   "outputs": [
    {
     "data": {
      "text/plain": [
       "<matplotlib.legend.Legend at 0x7f86d49bdb90>"
      ]
     },
     "execution_count": 3,
     "metadata": {},
     "output_type": "execute_result"
    },
    {
     "data": {
      "image/png": "[encoded data removed]",
      "text/plain": [
       "<matplotlib.figure.Figure at 0x7f86d6a2ad90>"
      ]
     },
     "metadata": {},
     "output_type": "display_data"
    }
   ],
   "source": [
    "## Plot \n",
    "plt.plot(Y1, 'r',   label='$y_1$')\n",
    "plt.plot(X1[:,1], 'r--', label='$X_1$')\n",
    "plt.plot(Y2, 'k',   label='$y_2$',)\n",
    "plt.plot(X2, 'k--', label='$X_2$')\n",
    "\n",
    "\n",
    "plt.plot(Y,'b',label='$\\overline{y}$')\n",
    "plt.legend(loc = 3)\n"
   ]
  },
  {
   "cell_type": "markdown",
   "metadata": {},
   "source": [
    "## CSSS Object\n",
    "The CSSS package is built upon the CSSS object class, which allows users to fully specifcy and fit a problem. \n",
    "\n",
    "A CSSS objest is initailized with only a source signal for disaggregation, in this case the numpy array, Y. \n",
    "\n",
    "\n",
    "### Attributes\n",
    "- `models` is a dictionary of models for each component source.  Adding sources and their properties is addressed below. \n",
    "- `constraints` is a list of additional constraints. Adding constraints is addressed below. \n",
    "- `aggregateSignal` is the aggregate signal\n",
    "- `N` is the number of observations in the aggregate signal. \n",
    "- `modelcounter` is the total number of source models included.\n"
   ]
  },
  {
   "cell_type": "code",
   "execution_count": 4,
   "metadata": {},
   "outputs": [],
   "source": [
    "## A CSSS Object is initialized with an aggregate signal\n",
    "CSSEtry = CSSS.CSSS( aggregateSignal=Y)"
   ]
  },
  {
   "cell_type": "markdown",
   "metadata": {},
   "source": [
    "### Adding Sources\n",
    "The method CSSS.addSource adds a model for a source signal. By default, the model cost function is the sum of square errors, $\\left|\\left| y_i - X_i \\theta_i \\right|\\right|_2^2$_, and there is no regularization of the source signal or the parameters. Alternate options for this form (i.e. other norms) will be included in future versions of this package. \n",
    "```python\n",
    "CSSSobject.addSource(X1, name = 'y1')  ## Add a model for source signal y1 based on covaraite X1\n",
    "CSSSobject.addSource(X2, name = 'y2')  ## Add a model for source signal y2 based on covaraite X2\n",
    "```\n",
    "The optional parameter `alpha` is a salar that weights the cost of the signal in the objective function. In the following example, costs associated with the errors in the model for `y1` will be weighted twice that of those for `y2`. \n"
   ]
  },
  {
   "cell_type": "code",
   "execution_count": 5,
   "metadata": {},
   "outputs": [
    {
     "name": "stdout",
     "output_type": "stream",
     "text": [
      "0.0668621063232\n"
     ]
    }
   ],
   "source": [
    "# Try it out. \n",
    "CSSEtry = CSSS.CSSS(Y)  ## Instantiate model with aggregate signal, Y\n",
    "CSSEtry.addSource(X1, alpha = 1, name = 'y1')  ## Add a model for Y1\n",
    "CSSEtry.addSource(X2, alpha = 1, name = 'y2')  ## Add a model for Y2y\n",
    "## Perform a fitting of this initial model usign \n",
    "# CSSS.constructSolve()\n",
    "start=time.time()\n",
    "CSSEtry.constructSolve()\n",
    "print(time.time()-start)\n"
   ]
  },
  {
   "cell_type": "markdown",
   "metadata": {},
   "source": [
    "## Deconstructing the model\n",
    "Now that the model is fit "
   ]
  },
  {
   "cell_type": "code",
   "execution_count": 12,
   "metadata": {},
   "outputs": [
    {
     "name": "stdout",
     "output_type": "stream",
     "text": [
      "['y1', 'y2']\n",
      "['regularizeSource', 'lb', 'name', 'regressor', 'regularizeTheta', 'source', 'beta', 'obj', 'theta', 'alpha', 'costFunction', 'order', 'gamma', 'ub']\n",
      "\n",
      "theta_1\n",
      "[[14.79175435]\n",
      " [ 0.99740168]]\n",
      "\n",
      "Y_1\n",
      "[[ 13.3156012 ]\n",
      " [ 46.28854369]\n",
      " [ 61.80140892]\n",
      " [ 61.41291024]\n",
      " [ 45.6792976 ]\n",
      " [ 16.30362127]\n",
      " [-20.46572525]\n",
      " [-32.14414261]\n",
      " [-26.11096563]\n",
      " [-18.16300635]]\n",
      "\n",
      "X1\n",
      "[ 11.46231957  43.71016315  58.05577945  50.93174246  49.76401972\n",
      "  13.08728678 -18.11830533 -45.7635133  -36.86157954 -21.59884723]\n"
     ]
    }
   ],
   "source": [
    "## Models is a dictionary of models for each source signal. \n",
    "print(CSSEtry.models.keys())\n",
    "\n",
    "## A Model element is itself a dictioanry\n",
    "print(CSSEtry.models['y1'].keys())\n",
    "\n",
    "## Elements include all cvxpy variables and data associated with the signal, including\n",
    "# regressor: X1\n",
    "# theta: cvxpy Varaible vector of coefficients, theta_1\n",
    "# source\" cvxpy Variable vector of the source signal, Y1\n",
    "\n",
    "## Now that the model is fit. we can access the fitted values. \n",
    "print('\\ntheta_1')\n",
    "print(CSSEtry.models['y1']['theta'].value)\n",
    "\n",
    "print('\\nY_1')\n",
    "print(CSSEtry.models['y1']['source'].value)\n",
    "print('\\nX1')\n",
    "print(Y1)\n"
   ]
  },
  {
   "cell_type": "markdown",
   "metadata": {},
   "source": [
    "#### Parameter Regularization\n",
    "The `regularizeTheta` input to `addSource` defines the $h_i()$ term for the source and takes either a string or a function. Strings define standard regularizations and can take \"ss\" for sum of squares, 'l1' for l1-norms, and 'l2' for l2-norms. `beta` is a parameter for linearly scaling the regularization term in the overall objective function. `beta` is a linear scaling for the regularization in the objective function. `beta`  may take a scalar or a vector value, if a vector there must be one element for element of $\\theta_i$.\n",
    "\n"
   ]
  },
  {
   "cell_type": "markdown",
   "metadata": {},
   "source": [
    "If inputing a custom function to regularize theta, the function must input a vector of cvxpy variables, and output a scalar that goes into the objective function, and must be convex. The `beta` term can still be used to scale this function. \n",
    "```python\n",
    "import cvxpy\n",
    "\n",
    "\n"
   ]
  },
  {
   "cell_type": "code",
   "execution_count": 7,
   "metadata": {},
   "outputs": [],
   "source": [
    "## Create a custom regularization function that penalized the square distance from a value to 2. \n",
    "def customReg(x):\n",
    "    return(cvxpy.sum_entries(cvxpy.power((x-5),2)))\n",
    "\n",
    "CSSEtry2 = CSSS.CSSS(Y)  ## Instantiate model with aggregate signal, Y\n",
    "CSSEtry2.addSource(X2, alpha = 1, name = 'y2')  ## Add a model for Y2\n",
    "CSSEtry2.addSource(X1, name = 'y1', regularizeTheta=customReg, beta = 2000)  ## Add a model for source signal y1\n"
   ]
  },
  {
   "cell_type": "code",
   "execution_count": 8,
   "metadata": {},
   "outputs": [
    {
     "data": {
      "text/plain": [
       "22336.978422767024"
      ]
     },
     "execution_count": 8,
     "metadata": {},
     "output_type": "execute_result"
    }
   ],
   "source": [
    "## Fit the model\n",
    "# This time tryign with ADMM in place of a one step solver. \n",
    "import time\n",
    "start=time.time()\n",
    "CSSEtry2.constructSolve()\n",
    "#print(time.time()-start)"
   ]
  },
  {
   "cell_type": "code",
   "execution_count": 9,
   "metadata": {},
   "outputs": [
    {
     "data": {
      "image/png": "[encoded data removed]",
      "text/plain": [
       "<matplotlib.figure.Figure at 0x7f86d48e3cd0>"
      ]
     },
     "metadata": {},
     "output_type": "display_data"
    }
   ],
   "source": [
    "plt.plot(CSSEtry.models['y1']['source'].value,  label = 'No Regularization')\n",
    "plt.plot(CSSEtry2.models['y1']['source'].value, label = 'Regularize Theta')\n",
    "\n",
    "#plt.plot(CSSEtry.models['Y1']['regressor'] * CSSEtry.models['Y1']['theta'].value, label = 'Modeled')\n",
    "plt.plot(Y1, label = 'Actual')\n",
    "\n",
    "plt.legend()\n",
    "plt.show()"
   ]
  },
  {
   "cell_type": "markdown",
   "metadata": {},
   "source": [
    "## Regularizing a source\n",
    "The `regularizeSource` input to `addSource` defines the $g_i()$ term for the source and takes either a string or a function. Strings define standard regularizations and can take \"diff21_ss\" for sum of squares of the differenced signal. `gamma` is a parameter for linearly scaling the regularization term in the overall objective function.  `gamma`  may take a scalar or a vector value, if a vector there must be one element for element of $\\theta_i$.\n"
   ]
  },
  {
   "cell_type": "code",
   "execution_count": 10,
   "metadata": {},
   "outputs": [
    {
     "data": {
      "text/plain": [
       "2631.1850400590024"
      ]
     },
     "execution_count": 10,
     "metadata": {},
     "output_type": "execute_result"
    }
   ],
   "source": [
    "## Create a custom regularization function that penalized the square distance from a value to 2. \n",
    "CSSEtry3 = CSSS.CSSS(Y)  ## Instantiate model with aggregate signal, Y\n",
    "CSSEtry3.addSource(X2, alpha = 1, name = 'y2')  ## Add a model for Y2\n",
    "CSSEtry3.addSource(X1, name = 'y1', regularizeSource='diff1_ss', gamma = 1)  ## Add a model for source signal y1\n",
    "CSSEtry3.constructSolve()"
   ]
  },
  {
   "cell_type": "code",
   "execution_count": 11,
   "metadata": {},
   "outputs": [
    {
     "data": {
      "image/png": "[encoded data removed]",
      "text/plain": [
       "<matplotlib.figure.Figure at 0x7f351937e7d0>"
      ]
     },
     "metadata": {},
     "output_type": "display_data"
    }
   ],
   "source": [
    "plt.plot(CSSEtry.models['y1']['source'].value,  label = 'No Regularization')\n",
    "plt.plot(CSSEtry2.models['y1']['source'].value, label = 'Regularize Theta')\n",
    "plt.plot(CSSEtry3.models['y1']['source'].value, label = 'Regularize Source')\n",
    "\n",
    "#plt.plot(CSSEtry.models['Y1']['regressor'] * CSSEtry.models['Y1']['theta'].value, label = 'Modeled')\n",
    "plt.plot(Y1, label = 'Actual')\n",
    "\n",
    "plt.legend()\n",
    "plt.show()"
   ]
  },
  {
   "cell_type": "markdown",
   "metadata": {},
   "source": [
    "## ADMM Solver\n",
    "There is also a built in ADMM solver (by Emre) \n",
    "It does not seem to be working, and I haven't used it before so I can't troubleshoot it (MT). \n"
   ]
  },
  {
   "cell_type": "code",
   "execution_count": 12,
   "metadata": {},
   "outputs": [
    {
     "name": "stdout",
     "output_type": "stream",
     "text": [
      "Verbose on\n",
      "Initialized all sources\n",
      "('iter_num', 's_norm', 'eps_dual', 'r_norm', 'eps_pri')\n",
      "(1, 51.63489428396504, 0.09938789698031697, 0.9765584617274811, 0.0017320508075688772)\n",
      "(2, 38.075887806928336, 0.16957051536775142, 0.7018293871924124, 0.0017320508075688772)\n",
      "(3, 28.427638207546103, 0.21972040152346353, 0.5015148093014595, 0.0017320508075688772)\n",
      "(4, 21.661729139583997, 0.25547709403520885, 0.3576154820460623, 0.0017320508075688772)\n",
      "(5, 17.025547223596682, 0.2807105005824367, 0.25245169430215814, 0.0017320508075688772)\n",
      "(6, 13.95418700960089, 0.2982571721701716, 0.17571654476515683, 0.0017320508075688772)\n",
      "(7, 11.977181029647449, 0.31031087981447125, 0.12102325012468299, 0.0017320508075688772)\n",
      "(8, 10.763796909744059, 0.318506027984731, 0.08284293455489733, 0.0017320508075688772)\n",
      "(9, 10.018309677954312, 0.32371697829166707, 0.053757310674406346, 0.0017320508075688772)\n",
      "(10, 9.558523858179893, 0.3268498237359381, 0.034359395496645045, 0.0017320508075688772)\n",
      "(11, 9.265325849765606, 0.3284827432489126, 0.022072387082427834, 0.0017320508075688772)\n",
      "(12, 9.07786860826357, 0.32913065055806795, 0.01677055704863371, 0.0017320508075688772)\n",
      "(13, 8.905126329449848, 0.32888733754237687, 0.016095978619974177, 0.0017320508075688772)\n",
      "(14, 8.77294870345134, 0.3280592915829575, 0.018251788955253673, 0.0017320508075688772)\n",
      "(15, 8.663324519209782, 0.32686832642256103, 0.020386450003849935, 0.0017320508075688772)\n",
      "(16, 8.563267524027436, 0.32544123559347804, 0.022010328842607202, 0.0017320508075688772)\n",
      "(17, 8.460027240896647, 0.32378955526715253, 0.023622241112215146, 0.0017320508075688772)\n",
      "(18, 8.367295693046046, 0.32202619262289783, 0.024488571282912708, 0.0017320508075688772)\n",
      "(19, 8.274833650999879, 0.32019880320276145, 0.02499413085698457, 0.0017320508075688772)\n",
      "(20, 8.181610633423023, 0.3183109996268805, 0.02545404615794981, 0.0017320508075688772)\n",
      "(21, 8.099575587136986, 0.31648978218558804, 0.024984523115712247, 0.0017320508075688772)\n",
      "(22, 8.001537193350048, 0.31458197368916535, 0.02559180331315861, 0.0017320508075688772)\n",
      "(23, 7.910686327669804, 0.3124850355629384, 0.027010884541723613, 0.0017320508075688772)\n",
      "(24, 7.822025350046644, 0.3105187089098972, 0.025975828436111223, 0.0017320508075688772)\n",
      "(25, 7.738560703256596, 0.30871773610843684, 0.024717254649258384, 0.0017320508075688772)\n",
      "(26, 7.651028058978883, 0.3069726338074706, 0.024267429714328874, 0.0017320508075688772)\n",
      "(27, 7.569244412853735, 0.3049395626702917, 0.026387705506528168, 0.0017320508075688772)\n",
      "(28, 7.483023247566113, 0.3030565962642632, 0.025190999014290765, 0.0017320508075688772)\n",
      "(29, 7.400935014812335, 0.3013185721930497, 0.024075000075482477, 0.0017320508075688772)\n",
      "(30, 7.3199971059830675, 0.2996331163576573, 0.023647378817581395, 0.0017320508075688772)\n",
      "(31, 7.2359813273130404, 0.29762885189518623, 0.025965485709067947, 0.0017320508075688772)\n",
      "(32, 7.154917486390669, 0.2959500743307623, 0.023476631671758324, 0.0017320508075688772)\n",
      "(33, 7.075600428974565, 0.29423910384688795, 0.023652818697993738, 0.0017320508075688772)\n",
      "(34, 6.996444323090819, 0.2924931540941751, 0.02384918102327418, 0.0017320508075688772)\n",
      "(35, 6.921005274859786, 0.2909014543161062, 0.022686743772711154, 0.0017320508075688772)\n",
      "(36, 6.842785795771715, 0.2891893996524623, 0.023485787979669596, 0.0017320508075688772)\n",
      "(37, 6.766015472669645, 0.2876224012087164, 0.022381940147368735, 0.0017320508075688772)\n",
      "(38, 6.693765139112692, 0.28609742592772996, 0.022035533831024804, 0.0017320508075688772)\n",
      "(39, 6.61775677933135, 0.2845255810264469, 0.02229549798850205, 0.0017320508075688772)\n",
      "(40, 6.545775825031063, 0.28299621112498735, 0.02193831204312015, 0.0017320508075688772)\n",
      "(41, 6.472712636704984, 0.28147095379196185, 0.021843318735892417, 0.0017320508075688772)\n",
      "(42, 6.399545555489984, 0.2799405460477569, 0.021810394343146366, 0.0017320508075688772)\n",
      "(43, 6.329005707968612, 0.27856912774173087, 0.020656106614336558, 0.0017320508075688772)\n",
      "(44, 6.258600664981013, 0.2770601255412762, 0.021532377217404468, 0.0017320508075688772)\n",
      "(45, 6.190254106045769, 0.2757880313572616, 0.019871641593771583, 0.0017320508075688772)\n",
      "(46, 6.120968914873805, 0.27432807414723503, 0.021060788134611888, 0.0017320508075688772)\n",
      "(47, 6.052212370542849, 0.2729182448320069, 0.020644405487387857, 0.0017320508075688772)\n",
      "(48, 5.984910624135531, 0.27159151827266653, 0.02001375724579561, 0.0017320508075688772)\n",
      "(49, 5.918530580764964, 0.2702834308923395, 0.01982049514263128, 0.0017320508075688772)\n",
      "(50, 5.852843655303719, 0.26899319243301684, 0.019632342859849234, 0.0017320508075688772)\n",
      "(51, 5.7878276053068305, 0.2677197518266925, 0.01945084162468334, 0.0017320508075688772)\n",
      "(52, 5.723575558991904, 0.26641148155179695, 0.019610635006164553, 0.0017320508075688772)\n",
      "(53, 5.660441604621038, 0.2652512996624782, 0.018578466184826097, 0.0017320508075688772)\n",
      "(54, 5.597750270376798, 0.26405257037032986, 0.018750410702724613, 0.0017320508075688772)\n",
      "(55, 5.535673861603592, 0.26287705876689543, 0.018529078695057436, 0.0017320508075688772)\n",
      "(56, 5.47474297677543, 0.2617637576830117, 0.018066555733805962, 0.0017320508075688772)\n",
      "(57, 5.413451107103735, 0.2605579671962329, 0.01857859935473645, 0.0017320508075688772)\n",
      "(58, 5.353220866319363, 0.25944063590208627, 0.01793890658094044, 0.0017320508075688772)\n",
      "(59, 5.294153215636245, 0.25837286074792853, 0.017558675875340074, 0.0017320508075688772)\n",
      "(60, 5.235949635504084, 0.2573369524639614, 0.01729184848181239, 0.0017320508075688772)\n",
      "(61, 5.177548577263072, 0.2562304360879316, 0.01764985998224386, 0.0017320508075688772)\n",
      "(62, 5.120088807232769, 0.25519598047905806, 0.017128450242179318, 0.0017320508075688772)\n",
      "(63, 5.063440016585232, 0.25418680759124407, 0.016899799916603956, 0.0017320508075688772)\n",
      "(64, 5.0072028877231185, 0.2531934453919002, 0.01672796707298057, 0.0017320508075688772)\n",
      "(65, 4.951925334901256, 0.2522199656586123, 0.01653371470810636, 0.0017320508075688772)\n",
      "(66, 4.897255064911195, 0.25126491611518165, 0.01634844700348433, 0.0017320508075688772)\n",
      "(67, 4.843173735397391, 0.25032721772259564, 0.016169815000681813, 0.0017320508075688772)\n",
      "(68, 4.789661873466975, 0.24940570167545603, 0.015998194903776138, 0.0017320508075688772)\n",
      "(69, 4.736694554078997, 0.24849873533273595, 0.0158360704588209, 0.0017320508075688772)\n",
      "(70, 4.684415400940763, 0.2476212984660746, 0.01558952127373582, 0.0017320508075688772)\n",
      "(71, 4.632474920949297, 0.24673397579434783, 0.015566484841882916, 0.0017320508075688772)\n",
      "(72, 4.580772487810031, 0.24585754890658953, 0.015423454278657501, 0.0017320508075688772)\n",
      "(73, 4.530533864593188, 0.24508452907969067, 0.014778531125491696, 0.0017320508075688772)\n",
      "(74, 4.479943798616609, 0.24420160345024325, 0.015305219608014203, 0.0017320508075688772)\n",
      "(75, 4.431524592215662, 0.24353793484655337, 0.014070299931482526, 0.0017320508075688772)\n",
      "(76, 4.38131530595707, 0.24257825795193105, 0.015612855180414175, 0.0017320508075688772)\n",
      "(77, 4.332409751254741, 0.24179259993564184, 0.01452017678395201, 0.0017320508075688772)\n",
      "(78, 4.28407884794648, 0.24099238721270708, 0.014518067005726238, 0.0017320508075688772)\n",
      "(79, 4.236661658520736, 0.24025770280554598, 0.014084391806273721, 0.0017320508075688772)\n",
      "(80, 4.1897667032746835, 0.23952411797406514, 0.013997577857304015, 0.0017320508075688772)\n",
      "(81, 4.143405099045356, 0.23880685936401955, 0.013831341125724005, 0.0017320508075688772)\n",
      "(82, 4.097336995318591, 0.23807558503912327, 0.013823486501129354, 0.0017320508075688772)\n",
      "(83, 4.051863795338495, 0.2373755649671289, 0.013578250088175781, 0.0017320508075688772)\n",
      "(84, 4.006847439392996, 0.23668084646316018, 0.01346935638594195, 0.0017320508075688772)\n",
      "(85, 3.963662825985039, 0.23615950132002647, 0.012579011229866943, 0.0017320508075688772)\n",
      "(86, 3.918847566901463, 0.23535713045647005, 0.013905047659305635, 0.0017320508075688772)\n",
      "(87, 3.87567909668784, 0.23478505100477046, 0.012628226680342594, 0.0017320508075688772)\n",
      "(88, 3.831731210671782, 0.2340165672552043, 0.013553122512124502, 0.0017320508075688772)\n",
      "(89, 3.789082652198785, 0.2334200094787703, 0.012569702434409545, 0.0017320508075688772)\n",
      "(90, 3.7470719241355, 0.2328210781446476, 0.012499261560037014, 0.0017320508075688772)\n",
      "(91, 3.705460761089072, 0.2322276729102002, 0.01239106025962712, 0.0017320508075688772)\n",
      "(92, 3.664274547624486, 0.23164203223428897, 0.012272286351182335, 0.0017320508075688772)\n",
      "(93, 3.6235230492980897, 0.2310650245445421, 0.012149613364787008, 0.0017320508075688772)\n",
      "(94, 3.5832158838899226, 0.23049720755725603, 0.012024636285886025, 0.0017320508075688772)\n",
      "(95, 3.5433914033051814, 0.2299396548133421, 0.011895131413239777, 0.0017320508075688772)\n",
      "(96, 3.5040045830275077, 0.2293923198581869, 0.011766246446420514, 0.0017320508075688772)\n",
      "(97, 3.4650546255687873, 0.22885517230571717, 0.011637952811322986, 0.0017320508075688772)\n",
      "(98, 3.4265386624918435, 0.22832815855033445, 0.011510389987387813, 0.0017320508075688772)\n",
      "(99, 3.3884520920467027, 0.22781117217865837, 0.011383818371648506, 0.0017320508075688772)\n",
      "1.50346398354\n"
     ]
    }
   ],
   "source": [
    "# Try it out. \n",
    "CSSEtry = CSSS.CSSS(Y)  ## Instantiate model with aggregate signal, Y\n",
    "CSSEtry.addSource(X1, alpha = 1, name = 'Y1')  ## Add a model for Y1\n",
    "CSSEtry.addSource(X2, alpha = 1, name = 'Y2')  ## Add a model for Y2\n",
    "\n",
    "## Perform a fitting of this initial model usign \n",
    "# CSSS.constructSolve()\n",
    "start=time.time()\n",
    "[dual_obj,norm_resid_equality,u]=CSSEtry.admmSolve(10, MaxIter=100, ABSTOL=0.001, RELTOL=0.01,verbose=True)\n",
    "print(time.time()-start)\n"
   ]
  },
  {
   "cell_type": "code",
   "execution_count": 13,
   "metadata": {},
   "outputs": [
    {
     "ename": "ValueError",
     "evalue": "x and y must not be None",
     "output_type": "error",
     "traceback": [
      "\u001b[0;31m---------------------------------------------------------------------------\u001b[0m",
      "\u001b[0;31mValueError\u001b[0m                                Traceback (most recent call last)",
      "\u001b[0;32m<ipython-input-13-63e79fbc8b7e>\u001b[0m in \u001b[0;36m<module>\u001b[0;34m()\u001b[0m\n\u001b[0;32m----> 1\u001b[0;31m \u001b[0mplt\u001b[0m\u001b[0;34m.\u001b[0m\u001b[0mplot\u001b[0m\u001b[0;34m(\u001b[0m\u001b[0mCSSEtry\u001b[0m\u001b[0;34m.\u001b[0m\u001b[0mmodels\u001b[0m\u001b[0;34m[\u001b[0m\u001b[0;34m'Y2'\u001b[0m\u001b[0;34m]\u001b[0m\u001b[0;34m[\u001b[0m\u001b[0;34m'source'\u001b[0m\u001b[0;34m]\u001b[0m\u001b[0;34m.\u001b[0m\u001b[0mvalue\u001b[0m\u001b[0;34m,\u001b[0m \u001b[0mlabel\u001b[0m \u001b[0;34m=\u001b[0m \u001b[0;34m'ADMMDisaggregated'\u001b[0m\u001b[0;34m)\u001b[0m\u001b[0;34m\u001b[0m\u001b[0m\n\u001b[0m\u001b[1;32m      2\u001b[0m \u001b[0;34m\u001b[0m\u001b[0m\n\u001b[1;32m      3\u001b[0m \u001b[0;31m#plt.plot(CSSEtry.models['Y2']['regressor'] * CSSEtry.models['Y2']['theta'].value, label = 'Modeled')\u001b[0m\u001b[0;34m\u001b[0m\u001b[0;34m\u001b[0m\u001b[0m\n\u001b[1;32m      4\u001b[0m \u001b[0mplt\u001b[0m\u001b[0;34m.\u001b[0m\u001b[0mplot\u001b[0m\u001b[0;34m(\u001b[0m\u001b[0mY2\u001b[0m\u001b[0;34m,\u001b[0m \u001b[0mlabel\u001b[0m \u001b[0;34m=\u001b[0m \u001b[0;34m'Actual'\u001b[0m\u001b[0;34m)\u001b[0m\u001b[0;34m\u001b[0m\u001b[0m\n\u001b[1;32m      5\u001b[0m \u001b[0;34m\u001b[0m\u001b[0m\n",
      "\u001b[0;32m/home/erik/CSSS/ENV/local/lib/python2.7/site-packages/matplotlib/pyplot.pyc\u001b[0m in \u001b[0;36mplot\u001b[0;34m(*args, **kwargs)\u001b[0m\n\u001b[1;32m   3259\u001b[0m                       mplDeprecation)\n\u001b[1;32m   3260\u001b[0m     \u001b[0;32mtry\u001b[0m\u001b[0;34m:\u001b[0m\u001b[0;34m\u001b[0m\u001b[0m\n\u001b[0;32m-> 3261\u001b[0;31m         \u001b[0mret\u001b[0m \u001b[0;34m=\u001b[0m \u001b[0max\u001b[0m\u001b[0;34m.\u001b[0m\u001b[0mplot\u001b[0m\u001b[0;34m(\u001b[0m\u001b[0;34m*\u001b[0m\u001b[0margs\u001b[0m\u001b[0;34m,\u001b[0m \u001b[0;34m**\u001b[0m\u001b[0mkwargs\u001b[0m\u001b[0;34m)\u001b[0m\u001b[0;34m\u001b[0m\u001b[0m\n\u001b[0m\u001b[1;32m   3262\u001b[0m     \u001b[0;32mfinally\u001b[0m\u001b[0;34m:\u001b[0m\u001b[0;34m\u001b[0m\u001b[0m\n\u001b[1;32m   3263\u001b[0m         \u001b[0max\u001b[0m\u001b[0;34m.\u001b[0m\u001b[0m_hold\u001b[0m \u001b[0;34m=\u001b[0m \u001b[0mwashold\u001b[0m\u001b[0;34m\u001b[0m\u001b[0m\n",
      "\u001b[0;32m/home/erik/CSSS/ENV/local/lib/python2.7/site-packages/matplotlib/__init__.pyc\u001b[0m in \u001b[0;36minner\u001b[0;34m(ax, *args, **kwargs)\u001b[0m\n\u001b[1;32m   1715\u001b[0m                     warnings.warn(msg % (label_namer, func.__name__),\n\u001b[1;32m   1716\u001b[0m                                   RuntimeWarning, stacklevel=2)\n\u001b[0;32m-> 1717\u001b[0;31m             \u001b[0;32mreturn\u001b[0m \u001b[0mfunc\u001b[0m\u001b[0;34m(\u001b[0m\u001b[0max\u001b[0m\u001b[0;34m,\u001b[0m \u001b[0;34m*\u001b[0m\u001b[0margs\u001b[0m\u001b[0;34m,\u001b[0m \u001b[0;34m**\u001b[0m\u001b[0mkwargs\u001b[0m\u001b[0;34m)\u001b[0m\u001b[0;34m\u001b[0m\u001b[0m\n\u001b[0m\u001b[1;32m   1718\u001b[0m         \u001b[0mpre_doc\u001b[0m \u001b[0;34m=\u001b[0m \u001b[0minner\u001b[0m\u001b[0;34m.\u001b[0m\u001b[0m__doc__\u001b[0m\u001b[0;34m\u001b[0m\u001b[0m\n\u001b[1;32m   1719\u001b[0m         \u001b[0;32mif\u001b[0m \u001b[0mpre_doc\u001b[0m \u001b[0;32mis\u001b[0m \u001b[0mNone\u001b[0m\u001b[0;34m:\u001b[0m\u001b[0;34m\u001b[0m\u001b[0m\n",
      "\u001b[0;32m/home/erik/CSSS/ENV/local/lib/python2.7/site-packages/matplotlib/axes/_axes.pyc\u001b[0m in \u001b[0;36mplot\u001b[0;34m(self, *args, **kwargs)\u001b[0m\n\u001b[1;32m   1370\u001b[0m         \u001b[0mkwargs\u001b[0m \u001b[0;34m=\u001b[0m \u001b[0mcbook\u001b[0m\u001b[0;34m.\u001b[0m\u001b[0mnormalize_kwargs\u001b[0m\u001b[0;34m(\u001b[0m\u001b[0mkwargs\u001b[0m\u001b[0;34m,\u001b[0m \u001b[0m_alias_map\u001b[0m\u001b[0;34m)\u001b[0m\u001b[0;34m\u001b[0m\u001b[0m\n\u001b[1;32m   1371\u001b[0m \u001b[0;34m\u001b[0m\u001b[0m\n\u001b[0;32m-> 1372\u001b[0;31m         \u001b[0;32mfor\u001b[0m \u001b[0mline\u001b[0m \u001b[0;32min\u001b[0m \u001b[0mself\u001b[0m\u001b[0;34m.\u001b[0m\u001b[0m_get_lines\u001b[0m\u001b[0;34m(\u001b[0m\u001b[0;34m*\u001b[0m\u001b[0margs\u001b[0m\u001b[0;34m,\u001b[0m \u001b[0;34m**\u001b[0m\u001b[0mkwargs\u001b[0m\u001b[0;34m)\u001b[0m\u001b[0;34m:\u001b[0m\u001b[0;34m\u001b[0m\u001b[0m\n\u001b[0m\u001b[1;32m   1373\u001b[0m             \u001b[0mself\u001b[0m\u001b[0;34m.\u001b[0m\u001b[0madd_line\u001b[0m\u001b[0;34m(\u001b[0m\u001b[0mline\u001b[0m\u001b[0;34m)\u001b[0m\u001b[0;34m\u001b[0m\u001b[0m\n\u001b[1;32m   1374\u001b[0m             \u001b[0mlines\u001b[0m\u001b[0;34m.\u001b[0m\u001b[0mappend\u001b[0m\u001b[0;34m(\u001b[0m\u001b[0mline\u001b[0m\u001b[0;34m)\u001b[0m\u001b[0;34m\u001b[0m\u001b[0m\n",
      "\u001b[0;32m/home/erik/CSSS/ENV/local/lib/python2.7/site-packages/matplotlib/axes/_base.pyc\u001b[0m in \u001b[0;36m_grab_next_args\u001b[0;34m(self, *args, **kwargs)\u001b[0m\n\u001b[1;32m    402\u001b[0m                 \u001b[0mthis\u001b[0m \u001b[0;34m+=\u001b[0m \u001b[0margs\u001b[0m\u001b[0;34m[\u001b[0m\u001b[0;36m0\u001b[0m\u001b[0;34m]\u001b[0m\u001b[0;34m,\u001b[0m\u001b[0;34m\u001b[0m\u001b[0m\n\u001b[1;32m    403\u001b[0m                 \u001b[0margs\u001b[0m \u001b[0;34m=\u001b[0m \u001b[0margs\u001b[0m\u001b[0;34m[\u001b[0m\u001b[0;36m1\u001b[0m\u001b[0;34m:\u001b[0m\u001b[0;34m]\u001b[0m\u001b[0;34m\u001b[0m\u001b[0m\n\u001b[0;32m--> 404\u001b[0;31m             \u001b[0;32mfor\u001b[0m \u001b[0mseg\u001b[0m \u001b[0;32min\u001b[0m \u001b[0mself\u001b[0m\u001b[0;34m.\u001b[0m\u001b[0m_plot_args\u001b[0m\u001b[0;34m(\u001b[0m\u001b[0mthis\u001b[0m\u001b[0;34m,\u001b[0m \u001b[0mkwargs\u001b[0m\u001b[0;34m)\u001b[0m\u001b[0;34m:\u001b[0m\u001b[0;34m\u001b[0m\u001b[0m\n\u001b[0m\u001b[1;32m    405\u001b[0m                 \u001b[0;32myield\u001b[0m \u001b[0mseg\u001b[0m\u001b[0;34m\u001b[0m\u001b[0m\n\u001b[1;32m    406\u001b[0m \u001b[0;34m\u001b[0m\u001b[0m\n",
      "\u001b[0;32m/home/erik/CSSS/ENV/local/lib/python2.7/site-packages/matplotlib/axes/_base.pyc\u001b[0m in \u001b[0;36m_plot_args\u001b[0;34m(self, tup, kwargs)\u001b[0m\n\u001b[1;32m    365\u001b[0m         \u001b[0;31m# downstream.\u001b[0m\u001b[0;34m\u001b[0m\u001b[0;34m\u001b[0m\u001b[0m\n\u001b[1;32m    366\u001b[0m         \u001b[0;32mif\u001b[0m \u001b[0many\u001b[0m\u001b[0;34m(\u001b[0m\u001b[0mv\u001b[0m \u001b[0;32mis\u001b[0m \u001b[0mNone\u001b[0m \u001b[0;32mfor\u001b[0m \u001b[0mv\u001b[0m \u001b[0;32min\u001b[0m \u001b[0mtup\u001b[0m\u001b[0;34m)\u001b[0m\u001b[0;34m:\u001b[0m\u001b[0;34m\u001b[0m\u001b[0m\n\u001b[0;32m--> 367\u001b[0;31m             \u001b[0;32mraise\u001b[0m \u001b[0mValueError\u001b[0m\u001b[0;34m(\u001b[0m\u001b[0;34m\"x and y must not be None\"\u001b[0m\u001b[0;34m)\u001b[0m\u001b[0;34m\u001b[0m\u001b[0m\n\u001b[0m\u001b[1;32m    368\u001b[0m \u001b[0;34m\u001b[0m\u001b[0m\n\u001b[1;32m    369\u001b[0m         \u001b[0mkw\u001b[0m \u001b[0;34m=\u001b[0m \u001b[0;34m{\u001b[0m\u001b[0;34m}\u001b[0m\u001b[0;34m\u001b[0m\u001b[0m\n",
      "\u001b[0;31mValueError\u001b[0m: x and y must not be None"
     ]
    },
    {
     "data": {
      "image/png": "[encoded data removed]",
      "text/plain": [
       "<matplotlib.figure.Figure at 0x7f351b4ce290>"
      ]
     },
     "metadata": {},
     "output_type": "display_data"
    }
   ],
   "source": [
    "plt.plot(CSSEtry.models['Y2']['source'].value, label = 'ADMMDisaggregated')\n",
    "\n",
    "#plt.plot(CSSEtry.models['Y2']['regressor'] * CSSEtry.models['Y2']['theta'].value, label = 'Modeled')\n",
    "plt.plot(Y2, label = 'Actual')\n",
    "\n",
    "plt.legend()\n",
    "plt.show()"
   ]
  },
  {
   "cell_type": "code",
   "execution_count": null,
   "metadata": {},
   "outputs": [],
   "source": [
    "plt.plot(Y, label = 'Actual Total')\n",
    "plt.plot(CSSEtry.models['Y2']['source'].value+CSSEtry.models['Y1']['source'].value, '--<r',label = 'CSSS Total',)\n",
    "plt.plot(CSSEtry.models['Y2']['admmSource']+CSSEtry.models['Y1']['admmSource'],'--ob', label = 'ADMM total',)\n",
    "\n",
    "plt.legend()\n",
    "plt.show()"
   ]
  },
  {
   "cell_type": "code",
   "execution_count": null,
   "metadata": {},
   "outputs": [],
   "source": [
    "plt.plot(CSSEtry.models['Y2']['admmSource'], label = 'ADMMDisaggregated')\n",
    "plt.plot(CSSEtry.models['Y1']['admmSource'], label = 'ADMMDisaggregated')\n"
   ]
  }
 ],
 "metadata": {
  "kernelspec": {
   "display_name": "Python 2",
   "language": "python",
   "name": "python2"
  },
  "language_info": {
   "codemirror_mode": {
    "name": "ipython",
    "version": 2
   },
   "file_extension": ".py",
   "mimetype": "text/x-python",
   "name": "python",
   "nbconvert_exporter": "python",
   "pygments_lexer": "ipython2",
   "version": "2.7.15rc1"
  }
 },
 "nbformat": 4,
 "nbformat_minor": 2
}
