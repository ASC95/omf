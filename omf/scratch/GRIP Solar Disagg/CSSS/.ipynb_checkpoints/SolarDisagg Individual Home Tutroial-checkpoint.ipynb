{
 "cells": [
  {
   "cell_type": "markdown",
   "metadata": {},
   "source": [
    "## Solar Disagg Individual Home Tutorial\n",
    "The SolarDisagg subModule is build on top of the CSSS module and consists primarily of two classes:\n",
    "- `SolarDisagg_IndvHome`, which follows the training problem outlined in the BuildSys poblication, and \n",
    "- `SolarDisagg_IndvHome_Realtime`, which follows the streaming problem outlined in the BuildSys Publication. "
   ]
  },
  {
   "cell_type": "code",
   "execution_count": 44,
   "metadata": {},
   "outputs": [],
   "source": [
    "import sys\n",
    "sys.path.append(\"..\") # Adds higher directory to python modules path.\n",
    "\n",
    "import numpy as np\n",
    "import pandas as pd\n",
    "import csss\n",
    "import sqlalchemy as sq\n",
    "import matplotlib.pyplot as plt\n",
    "import pytz\n",
    "import datetime as dt\n",
    "import pickle as pk\n",
    "from imp import reload\n",
    "import copy\n",
    "import seaborn as sns\n",
    "\n",
    "% matplotlib inline"
   ]
  },
  {
   "cell_type": "code",
   "execution_count": 2,
   "metadata": {},
   "outputs": [],
   "source": [
    "def createTempInput(temp, size, minTemp=None, maxTemp=None, intercept = False):\n",
    "    if (minTemp is None):\n",
    "        minTemp=min(temp)\n",
    "    if maxTemp is None:\n",
    "        maxTemp=max(temp)\n",
    "    minBound=int(np.floor(minTemp / size)) * size\n",
    "    maxBound=int(np.floor(maxTemp / size)) * size + size\n",
    "\n",
    "    rangeCount = int((maxBound-minBound) / size)\n",
    "    result     = np.zeros((len(temp), rangeCount+intercept))\n",
    "    t = 0\n",
    "    for elem in temp:\n",
    "        fullRanges = min( int(np.floor((elem-minBound) / size)), rangeCount-1)\n",
    "        fullRanges = max(0, fullRanges)\n",
    "        bound      = (minBound+fullRanges*size)\n",
    "        lastRange  = elem-bound\n",
    "        res        = [size for elem in range(fullRanges)]\n",
    "        res.append(lastRange)\n",
    "        for var in range(rangeCount-fullRanges-1):\n",
    "            res.append(0)\n",
    "        if intercept:\n",
    "            res.append(1)  ## Include an intercept\n",
    "                \n",
    "            \n",
    "        result[t,:] = np.array(res)\n",
    "        t +=1\n",
    "    return minTemp, maxTemp,result"
   ]
  },
  {
   "cell_type": "code",
   "execution_count": 3,
   "metadata": {},
   "outputs": [
    {
     "ename": "IOError",
     "evalue": "[Errno 2] No such file or directory: 'Solar_Disaggregation_Analysis/data/tutorial_data.pkl'",
     "output_type": "error",
     "traceback": [
      "\u001b[0;31m---------------------------------------------------------------------------\u001b[0m",
      "\u001b[0;31mIOError\u001b[0m                                   Traceback (most recent call last)",
      "\u001b[0;32m<ipython-input-3-82d7c84fa23a>\u001b[0m in \u001b[0;36m<module>\u001b[0;34m()\u001b[0m\n\u001b[1;32m      1\u001b[0m \u001b[0;31m## Load data and prepare regressors.\u001b[0m\u001b[0;34m\u001b[0m\u001b[0;34m\u001b[0m\u001b[0m\n\u001b[0;32m----> 2\u001b[0;31m \u001b[0mtutorial_data\u001b[0m \u001b[0;34m=\u001b[0m \u001b[0mpk\u001b[0m\u001b[0;34m.\u001b[0m\u001b[0mload\u001b[0m\u001b[0;34m(\u001b[0m \u001b[0mopen\u001b[0m\u001b[0;34m(\u001b[0m \u001b[0;34m\"Solar_Disaggregation_Analysis/data/tutorial_data.pkl\"\u001b[0m\u001b[0;34m,\u001b[0m \u001b[0;34m\"rb\"\u001b[0m \u001b[0;34m)\u001b[0m \u001b[0;34m)\u001b[0m\u001b[0;34m\u001b[0m\u001b[0m\n\u001b[0m\u001b[1;32m      3\u001b[0m \u001b[0;34m\u001b[0m\u001b[0m\n\u001b[1;32m      4\u001b[0m \u001b[0mTmin\u001b[0m\u001b[0;34m,\u001b[0m \u001b[0mTmax\u001b[0m\u001b[0;34m,\u001b[0m \u001b[0mtemp_regress\u001b[0m \u001b[0;34m=\u001b[0m \u001b[0mcreateTempInput\u001b[0m\u001b[0;34m(\u001b[0m\u001b[0mtutorial_data\u001b[0m\u001b[0;34m[\u001b[0m\u001b[0;34m'temperature'\u001b[0m\u001b[0;34m]\u001b[0m\u001b[0;34m,\u001b[0m \u001b[0;36m10\u001b[0m\u001b[0;34m)\u001b[0m\u001b[0;34m\u001b[0m\u001b[0m\n\u001b[1;32m      5\u001b[0m \u001b[0mhod\u001b[0m          \u001b[0;34m=\u001b[0m \u001b[0mpd\u001b[0m\u001b[0;34m.\u001b[0m\u001b[0mSeries\u001b[0m\u001b[0;34m(\u001b[0m\u001b[0;34m[\u001b[0m\u001b[0mt\u001b[0m\u001b[0;34m.\u001b[0m\u001b[0mhour\u001b[0m \u001b[0;32mfor\u001b[0m \u001b[0mt\u001b[0m \u001b[0;32min\u001b[0m \u001b[0mtutorial_data\u001b[0m\u001b[0;34m[\u001b[0m\u001b[0;34m'times'\u001b[0m\u001b[0;34m]\u001b[0m\u001b[0;34m]\u001b[0m\u001b[0;34m)\u001b[0m\u001b[0;34m\u001b[0m\u001b[0m\n",
      "\u001b[0;31mIOError\u001b[0m: [Errno 2] No such file or directory: 'Solar_Disaggregation_Analysis/data/tutorial_data.pkl'"
     ]
    }
   ],
   "source": [
    "## Load data and prepare regressors. \n",
    "#tutorial_data = pk.load( open( \"Solar_Disaggregation_Analysis/data/tutorial_data.pkl\", \"rb\" ) )\n",
    "\n",
    "Tmin, Tmax, temp_regress = createTempInput(tutorial_data['temperature'], 10)\n",
    "hod          = pd.Series([t.hour for t in tutorial_data['times']])\n",
    "hod          = np.array(pd.get_dummies(hod))\n",
    "\n",
    "#loadregressors = np.hstack([hod,temp_regress])\n",
    "#tuneregressors = hod\n",
    "#netload        = tutorial_data['netload']\n",
    "#solarproxy     = tutorial_data['solarproxy']\n",
    "#names          = ['solar_%d' % d for d in np.arange(netload.shape[1])+1]\n"
   ]
  },
  {
   "cell_type": "code",
   "execution_count": 72,
   "metadata": {
    "scrolled": true
   },
   "outputs": [
    {
     "name": "stdout",
     "output_type": "stream",
     "text": [
      "\n"
     ]
    },
    {
     "data": {
      "text/plain": [
       "15.294667726454358"
      ]
     },
     "execution_count": 72,
     "metadata": {},
     "output_type": "execute_result"
    }
   ],
   "source": [
    "## Construct solar disaggregation problem\n",
    "reload(csss.SolarDisagg)\n",
    "netload = np.array([[.5,.2,.5],\n",
    "[0.5,0.5,0.75],\n",
    "[1,0.9,0.8],\n",
    "[1.25,1,1],\n",
    "[1.5,2,1.25],\n",
    "[1.75,2,1.5],\n",
    "[2,2.25,1.7],\n",
    "[1.5,2,1.5],\n",
    "[1.5,2.7,1.3],\n",
    "[1.3,2,1.2],\n",
    "[1.4,1.5,1],\n",
    "[1.7,2,1],\n",
    "[2,2.6,1.25],\n",
    "[2.2,2.7,1.5],\n",
    "[2.4,2.8,1.5],\n",
    "[2.5,2.9,1.6],\n",
    "[2.8,3,1.5],\n",
    "[2.7,2.9,1.4],\n",
    "[2.9,2.5,1.4],\n",
    "[2.7,2.2,1.2],\n",
    "[2.3,1.8,0.9],\n",
    "[2,1,1],\n",
    "[1.5,1.2,1],\n",
    "[1,0.7,1]])\n",
    "solarproxy = np.array([0,0,0,0,0,-1.5,-2,-2.5,-3.1,-3.7,-4.3,-4.6,-4.5,-4.1,-3.8,-3.3,-2.7,-2.1,-1.6,-0.1,0,0,0,0])\n",
    "loadregressors = np.array([55,55,56,57,59,61,63,65,67,70,73,75,75,74,74,72,71,70,68,66,63,61,59,57])\n",
    "#loadregressors = np.array([55,55,55,55,55,55,55,55,55,55,55,55,55,55,55,55,55,55,55,55,55,55,55,55])\n",
    "\n",
    "## Create an initial model with equally weighted sources\n",
    "sdmod0 = csss.SolarDisagg.SolarDisagg_IndvHome(netloads=netload,                ## Matrix of net loads at each meter\n",
    "                                               solarregressors=solarproxy,      ## X_i for all i\n",
    "                                               loadregressors=loadregressors)   ## X_L \n",
    "                                               #tuningregressors=tuneregressors, ## X_tune\n",
    "                                               #names = names)                   ## Optional list of names for solar generation behind each meter. \n",
    "## The class initialization builds upon the CSSS class\n",
    "## It creates N+1 sources, N for solar and 1 for aggregate load\n",
    "## It constrains solar ot be negative and less than net load\n",
    "## It constrains aggregate load to be positive. \n",
    "\n",
    "\n",
    "## Add true solar values for, at least, the tuning system:\n",
    "## These are used for evaluating performance metrics and for tuning\n",
    "#for d in range(8):\n",
    "#    source_name = 'solar_%d' % (d+1)\n",
    "#    sdmod0.addTrueValue(name=source_name, trueValue=tutorial_data['solartruth'][:,d])\n",
    "\n",
    "## Construct and solve the problem. \n",
    "sdmod0.constructSolve()              ## Construct and solve the initial problem with flat alphas\n",
    "#sdmod_tune = copy.deepcopy(sdmod0)   ## Make a copy to save the initial problem\n",
    "\n",
    "## Fit models to predict expected variance of errors given tuning regressors ***\n",
    "# *********** *********** *********** *********** *********** *********** ******\n",
    "#sdmod_tune.fitTuneModels(            \n",
    "#    tuneSys=['solar_%s' % d for d in [1,2]]  ## Systems used for tuning must have true values loaded\n",
    "#    ) \n",
    "## This method adds two methods to the overall class, both are instances of scikitlearn.linear_models.LinearRegression()\n",
    "# self.Solar_var_norm() is a LinearRegression model predicting normalized variance of errors in solar models from the tuning regressors\n",
    "# self.Total_NL_var() predicts the variance of errors of the total net load model\n",
    "\n",
    "## fitTuneModels() also adds varaince lower bounds to each model dictionary under the key 'var_lb'. \n",
    "\n",
    "## Use the models to find tuned values of alpha. *******************************\n",
    "# *********** *********** *********** *********** *********** *********** ******\n",
    "#sdmod_tune.tuneAlphas()              \n",
    "## tuneAlphas() uses the models fit in fitTuneModels() to tune the alpha values for the entire problem. \n",
    "\n",
    "#sdmod_tune.constructSolve()          ## Construct and solve the tuned model. \n"
   ]
  },
  {
   "cell_type": "code",
   "execution_count": 77,
   "metadata": {},
   "outputs": [
    {
     "name": "stdout",
     "output_type": "stream",
     "text": [
      "4\n",
      "[[-9.14369096e-01]\n",
      " [-7.76867713e-01]\n",
      " [-5.61444825e-01]\n",
      " [-4.46022665e-01]\n",
      " [-1.15182397e-01]\n",
      " [-5.96673280e-02]\n",
      " [-4.74043457e-09]\n",
      " [-2.27359908e-01]\n",
      " [-1.56647820e-01]\n",
      " [-4.83017817e-01]\n",
      " [-7.09386825e-01]\n",
      " [-5.58608542e-01]\n",
      " [-2.69416631e-01]\n",
      " [-1.03085356e-01]\n",
      " [-2.30266317e-02]\n",
      " [-3.26699320e-09]\n",
      " [-1.46917933e-09]\n",
      " [-1.88166143e-09]\n",
      " [-1.81920762e-09]\n",
      " [-3.79691553e-09]\n",
      " [-1.40997062e-01]\n",
      " [-3.46838120e-01]\n",
      " [-3.77679829e-01]\n",
      " [-5.83524574e-01]]\n",
      "[[3.94307763]\n",
      " [4.08057642]\n",
      " [4.38431215]\n",
      " [4.58804857]\n",
      " [5.09552385]\n",
      " [5.42897794]\n",
      " [5.95000002]\n",
      " [5.68207551]\n",
      " [5.96994134]\n",
      " [5.94904784]\n",
      " [6.02815322]\n",
      " [6.37582253]\n",
      " [6.65825413]\n",
      " [6.70925621]\n",
      " [6.76906936]\n",
      " [7.00000001]\n",
      " [7.3       ]\n",
      " [7.00000001]\n",
      " [6.80000001]\n",
      " [6.10000001]\n",
      " [5.42297269]\n",
      " [5.04049773]\n",
      " [4.83302269]\n",
      " [4.4505502 ]]\n",
      "{'1': array([0.2 , 0.5 , 0.9 , 1.  , 2.  , 2.  , 2.25, 2.  , 2.7 , 2.  , 1.5 ,\n",
      "       2.  , 2.6 , 2.7 , 2.8 , 2.9 , 3.  , 2.9 , 2.5 , 2.2 , 1.8 , 1.  ,\n",
      "       1.2 , 0.7 ]), '0': array([0.5 , 0.5 , 1.  , 1.25, 1.5 , 1.75, 2.  , 1.5 , 1.5 , 1.3 , 1.4 ,\n",
      "       1.7 , 2.  , 2.2 , 2.4 , 2.5 , 2.8 , 2.7 , 2.9 , 2.7 , 2.3 , 2.  ,\n",
      "       1.5 , 1.  ]), '2': array([0.5 , 0.75, 0.8 , 1.  , 1.25, 1.5 , 1.7 , 1.5 , 1.3 , 1.2 , 1.  ,\n",
      "       1.  , 1.25, 1.5 , 1.5 , 1.6 , 1.5 , 1.4 , 1.4 , 1.2 , 0.9 , 1.  ,\n",
      "       1.  , 1.  ])}\n"
     ]
    },
    {
     "data": {
      "image/png": "[encoded data removed]",
      "text/plain": [
       "<matplotlib.figure.Figure at 0x7f1842ae5a90>"
      ]
     },
     "metadata": {},
     "output_type": "display_data"
    }
   ],
   "source": [
    "print(sdmod0.modelcounter)\n",
    "print(sdmod0.models['1']['source'].value)\n",
    "print(sdmod0.models)\n",
    "print(sdmod0.netloads)\n",
    "plt.plot(sdmod0.models['AggregateLoad']['source'].value, label = 'No Regularization')\n",
    "plt.plot(sdmod0.netloads['0'])\n",
    "plt.plot(sdmod0.netloads['1'])\n",
    "plt.plot(solarproxy, label = 'solar')\n",
    "plt.plot(sdmod0.models['0']['source'].value, label = 'zero')\n",
    "plt.plot(sdmod0.models['1']['source'].value, label = 'zero')\n",
    "plt.legend()\n",
    "plt.show()"
   ]
  },
  {
   "cell_type": "code",
   "execution_count": null,
   "metadata": {},
   "outputs": [],
   "source": [
    "## Real Time Problem. *********************************\n",
    "## ****************************************************\n",
    "\n",
    "aggregateNetLoad = np.sum(netload, axis = 1)\n",
    "## The real time problem class is build with a fit training model class as an input. \n",
    "\n",
    "sdmod_st_train = csss.SolarDisagg.SolarDisagg_IndvHome_Realtime(\n",
    "    sdmod_tune,                        ## Training Model\n",
    "    aggregateNetLoad=aggregateNetLoad, ## Streaming aggregate net load from substation\n",
    "    solarregressors=solarproxy,        ## Streaming Solar Proxy\n",
    "    loadregressors=loadregressors,     ## Streaming Load Regressors\n",
    "    tuningregressors= tuneregressors)  ## Streaming Tuning Regressors\n",
    "\n",
    "sdmod_st_train.tuneAlphas()     ## We can tune Alphas because the tuning models were fit in the training problem. \n",
    "sdmod_st_train.constructSolve() ##  Solve it!\n",
    " "
   ]
  },
  {
   "cell_type": "code",
   "execution_count": null,
   "metadata": {},
   "outputs": [],
   "source": []
  }
 ],
 "metadata": {
  "kernelspec": {
   "display_name": "Python 2",
   "language": "python",
   "name": "python2"
  },
  "language_info": {
   "codemirror_mode": {
    "name": "ipython",
    "version": 2
   },
   "file_extension": ".py",
   "mimetype": "text/x-python",
   "name": "python",
   "nbconvert_exporter": "python",
   "pygments_lexer": "ipython2",
   "version": "2.7.15rc1"
  }
 },
 "nbformat": 4,
 "nbformat_minor": 1
}
