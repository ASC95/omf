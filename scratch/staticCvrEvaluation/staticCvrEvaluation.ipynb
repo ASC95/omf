{
 "metadata": {
  "name": ""
 },
 "nbformat": 3,
 "nbformat_minor": 0,
 "worksheets": [
  {
   "cells": [
    {
     "cell_type": "markdown",
     "metadata": {},
     "source": [
      "## Calculate CVR impacts using a targetted set of static loadflows."
     ]
    },
    {
     "cell_type": "markdown",
     "metadata": {},
     "source": [
      "### Section 0: Imports"
     ]
    },
    {
     "cell_type": "code",
     "collapsed": false,
     "input": [
      "import os, csv, math, re, sys\n",
      "sys.path.append('../..')\n",
      "sys.path.append('../../solvers/')\n",
      "import feeder, milToGridlab, gridlabd\n",
      "from pprint import pprint as pp\n",
      "from copy import copy\n",
      "from matplotlib import pyplot as plt"
     ],
     "language": "python",
     "metadata": {},
     "outputs": [],
     "prompt_number": 1
    },
    {
     "cell_type": "code",
     "collapsed": false,
     "input": [
      "''' Basic operations that somehow didn't make it into the standard library. '''\n",
      "def avg(inList):\n",
      "\t''' Average a list. '''\n",
      "\treturn sum(inList)/len(inList)\n",
      "def roundSig(x, sig=3):\n",
      "    ''' Round a float to a given number of sig figs. '''\n",
      "    return round(x, sig-int(floor(log10(x)))-1)"
     ],
     "language": "python",
     "metadata": {},
     "outputs": [],
     "prompt_number": 2
    },
    {
     "cell_type": "markdown",
     "metadata": {},
     "source": [
      "### Section 1: Convert a Windmil export (.std, .seq) to a Gridlab Model (.glm)."
     ]
    },
    {
     "cell_type": "code",
     "collapsed": false,
     "input": [
      "# This conversion of the friendship feeder takes, a couple minutes, so only do it if necessary.\n",
      "def convertForCvr(stdPath, seqPath, outFilePath):\n",
      "    with open(stdPath) as stdFile, open(seqPath) as seqFile:\n",
      "        stdString = stdFile.read()\n",
      "        seqString = seqFile.read()\n",
      "    tree,xScale,yScale = milToGridlab.convert(stdString,seqString)\n",
      "    with open(outFilePath,'w') as glmFile:\n",
      "        glmFile.write(feeder.sortedWrite(tree))\n",
      "\n",
      "# Only do conversions if we have to. They take a long time.\n",
      "if not os.path.isfile('sourceData/ACEC-Friendship.glm'):\n",
      "    convertForCvr('sourceData/ACEC-Friendship.std','sourceData/ACEC.seq','sourceData/ACEC-Friendship.glm')\n",
      "if not os.path.isfile('sourceData/ACEC-Coloma.glm'):\n",
      "    convertForCvr('sourceData/ACEC-Coloma.std','sourceData/ACEC.seq','sourceData/ACEC-Coloma.glm')"
     ],
     "language": "python",
     "metadata": {},
     "outputs": [],
     "prompt_number": 3
    },
    {
     "cell_type": "markdown",
     "metadata": {},
     "source": [
      "### Section 2: take SCADA data in a TSV file, return monthly averages and peaks. "
     ]
    },
    {
     "cell_type": "code",
     "collapsed": false,
     "input": [
      "# Meter code to name mappings:\n",
      "subCodeToName = {468670:\"Glen\", 468706:\"Cambria\", 469573:\"Chateau\", 469616:\"Turtle\", 469628:\"Roslin\",\n",
      "    469653:\"Lewiston\", 469661:\"Montello\", 469664:\"Doylestown\", 470190:\"Wautoma\", 470201:\"Plainfield\",\n",
      "    470221:\"Hancock\", 470246:\"Richford\", 470284:\"Wild Rose\", 470382:\"Friendship\", 470386:\"Quincy\",\n",
      "    470394:\"Grant\", 470396:\"Sherwood\", 470396:\"SherwoodArrow\", 470493:\"Winnebago\", 470508:\"Dellwood\",\n",
      "    470538:\"Brooks\", 471059:\"Spring Lake\", 471135:\"Coloma\", 558087:\"Wild Rose Pumps\", 638717:\"Foxhill\",\n",
      "    664054:\"Poy Sippi\", 664054:\"Poysippi\", 664613:\"Friesland\", 664614:\"Friesland ACEC WPL\",\n",
      "    664616:\"Friesland WPL\", 693716:\"Columbus\", 710462:\"Badger West\", 7180863:\"Arrowhead\", 7180864:\"Lakehead\"}\n",
      "\n",
      "# MonthName -> Ordinal mapping:\n",
      "monthToOrd = {'January':1, 'February':2, 'March':3, 'April':4, 'May':5, 'June':6, 'July':7, 'August':8,\n",
      "    'September':9, 'October':10, 'November':11, 'December':12 }\n",
      "\n",
      "# MonthName -> Season mapping:\n",
      "monthToSeas = {'January':'Winter','February':'Winter','March':'Spring','April':'Spring',\n",
      "               'May':'Spring','June':'Summer','July':'Summer','August':'Summer',\n",
      "               'September':'Fall','October':'Fall','November':'Fall','December':'Winter'}"
     ],
     "language": "python",
     "metadata": {},
     "outputs": [],
     "prompt_number": 4
    },
    {
     "cell_type": "code",
     "collapsed": false,
     "input": [
      "# Read in the FRIENDSHIP data from the tsv.\n",
      "with open('sourceData/ACECSCADA2.tsv', 'rb') as csvFile:\n",
      "\tscadaReader = csv.DictReader(csvFile, delimiter='\\t')\n",
      "\tallData = [row for row in scadaReader if row['meterId']=='470382']\n",
      "print allData[3]"
     ],
     "language": "python",
     "metadata": {},
     "outputs": [
      {
       "output_type": "stream",
       "stream": "stdout",
       "text": [
        "{'timestamp': '1/1/11 04:00', 'meterId': '470382', 'powerFactor': '1', 'power': '2404.8'}\n"
       ]
      }
     ],
     "prompt_number": 5
    },
    {
     "cell_type": "code",
     "collapsed": false,
     "input": [
      "# Calculations on rows helper functions.\n",
      "def monthRows(monthName):\n",
      "\tmonthNum = monthToOrd[monthName]\n",
      "\tif monthNum<6: return [row for row in allData if re.match(r'^' + str(monthNum) + r'/\\d*/12 .*', row['timestamp'])]\n",
      "\telse: return [row for row in allData if re.match(r'^' + str(monthNum) + r'/\\d*/11 .*', row['timestamp'])]\n",
      "\n",
      "def mapOnPower(monthName, inFun):\n",
      "\tmonthData = monthRows(monthName)\n",
      "\treturn inFun([float(row['power']) for row in monthData])\n",
      "\n",
      "# All output data:\n",
      "monthData = [{'monthId':monthToOrd[m],\n",
      "              'monthName':m,\n",
      "              'season':monthToSeas[m],\n",
      "              'histPeak':roundSig(mapOnPower(m,max)*1000),\n",
      "              'histAverage':roundSig(mapOnPower(m,avg)*1000)} for m in sorted(monthToOrd, key=monthToOrd.get)]\n",
      "# Print it compactly along with PMR sanity test:\n",
      "for row in monthData: print row\n",
      "print '\\nPeak to Mean Ratios', [roundSig(m['histPeak']/m['histAverage']) for m in monthData]"
     ],
     "language": "python",
     "metadata": {},
     "outputs": [
      {
       "output_type": "stream",
       "stream": "stdout",
       "text": [
        "{'season': 'Winter', 'histAverage': 2740000.0, 'monthName': 'January', 'monthId': 1, 'histPeak': 4240000.0}\n",
        "{'season': 'Winter', 'histAverage': 2480000.0, 'monthName': 'February', 'monthId': 2, 'histPeak': 3310000.0}\n",
        "{'season': 'Spring', 'histAverage': 2030000.0, 'monthName': 'March', 'monthId': 3, 'histPeak': 2960000.0}\n",
        "{'season': 'Spring', 'histAverage': 2110000.0, 'monthName': 'April', 'monthId': 4, 'histPeak': 3030000.0}\n",
        "{'season': 'Spring', 'histAverage': 2340000.0, 'monthName': 'May', 'monthId': 5, 'histPeak': 4080000.0}\n",
        "{'season': 'Summer', 'histAverage': 2770000.0, 'monthName': 'June', 'monthId': 6, 'histPeak': 5810000.0}\n",
        "{'season': 'Summer', 'histAverage': 3970000.0, 'monthName': 'July', 'monthId': 7, 'histPeak': 6750000.0}\n",
        "{'season': 'Summer', 'histAverage': 3270000.0, 'monthName': 'August', 'monthId': 8, 'histPeak': 5200000.0}\n",
        "{'season': 'Fall', 'histAverage': 2130000.0, 'monthName': 'September', 'monthId': 9, 'histPeak': 4900000.0}\n",
        "{'season': 'Fall', 'histAverage': 1750000.0, 'monthName': 'October', 'monthId': 10, 'histPeak': 2340000.0}\n",
        "{'season': 'Fall', 'histAverage': 2210000.0, 'monthName': 'November', 'monthId': 11, 'histPeak': 3550000.0}\n",
        "{'season': 'Winter', 'histAverage': 2480000.0, 'monthName': 'December', 'monthId': 12, 'histPeak': 3370000.0}\n",
        "\n",
        "Peak to Mean Ratios [1.55, 1.33, 1.46, 1.44, 1.74, 2.1, 1.7, 1.59, 2.3, 1.34, 1.61, 1.36]\n"
       ]
      }
     ],
     "prompt_number": 6
    },
    {
     "cell_type": "code",
     "collapsed": false,
     "input": [
      "# Graph the SCADA data.\n",
      "fig = plt.figure(figsize=(17,5))\n",
      "indices = [r['monthName'] for r in monthData]\n",
      "d1 = [r['histPeak']/(10**3) for r in monthData]\n",
      "d2 = [r['histAverage']/(10**3) for r in monthData]\n",
      "ticks = range(len(d1))\n",
      "plt.bar(ticks,d1,color='gray')\n",
      "plt.bar(ticks,d2,color='dimgray')\n",
      "plt.xticks([t+0.5 for t in ticks],indices)\n",
      "plt.ylabel('Mean and peak historical power consumptions (kW)')\n",
      "plt.show()"
     ],
     "language": "python",
     "metadata": {},
     "outputs": [
      {
       "metadata": {},
       "output_type": "display_data",
       "png": "[encoded data removed]",
       "text": [
        "<matplotlib.figure.Figure at 0x7bf8750>"
       ]
      }
     ],
     "prompt_number": 7
    },
    {
     "cell_type": "markdown",
     "metadata": {},
     "source": [
      "### Section 3: run Gridlab about a million times to get all the CVR impacts."
     ]
    },
    {
     "cell_type": "code",
     "collapsed": false,
     "input": [
      "# monthData is the input from SCADA (see section 2 above):\n",
      "\n",
      "# Input from user's keyboard:\n",
      "rates = {\n",
      "\t'wholesaleEnergyCostPerKwh': 0.06,\n",
      "\t'retailEnergyCostPerKwh': 0.10,\n",
      "\t'peakDemandCostSpringPerKw': 5.0,\n",
      "\t'peakDemandCostSummerPerKw': 10.0,\n",
      "\t'peakDemandCostFallPerKw': 6.0,\n",
      "\t'peakDemandCostWinterPerKw': 8.0 }\n",
      "\n",
      "# Input from feeder/Milsoft:\n",
      "tree = feeder.parse('sourceData/ACEC-Friendship.glm')"
     ],
     "language": "python",
     "metadata": {},
     "outputs": [],
     "prompt_number": 8
    },
    {
     "cell_type": "code",
     "collapsed": false,
     "input": [
      "# myGraph = feeder.treeToNxGraph(tree)\n",
      "# feeder.latLonNxGraph(myGraph, neatoLayout=False)"
     ],
     "language": "python",
     "metadata": {},
     "outputs": [],
     "prompt_number": 20
    },
    {
     "cell_type": "code",
     "collapsed": false,
     "input": [
      "# Get the load levels we need to test.\n",
      "def roundOne(x,direc):\n",
      "\t''' Round x in direc (up/down) to 1 sig fig. '''\n",
      "\tthou = 10.0**math.floor(math.log10(x))\n",
      "\tdecForm = x/thou\n",
      "\tif direc=='up':\n",
      "\t\treturn math.ceil(decForm)*thou\n",
      "\telif direc=='down':\n",
      "\t\treturn math.floor(decForm)*thou\n",
      "\telse:\n",
      "\t\traise Exception\n",
      "allLoadLevels = [x.get('histPeak',0) for x in monthData] + [y.get('histAverage',0) for y in monthData]\n",
      "maxLev = roundOne(max(allLoadLevels),'up')\n",
      "minLev = roundOne(min(allLoadLevels),'down')\n",
      "tenLoadLevels = range(int(minLev),int(maxLev),int((maxLev-minLev)/10))"
     ],
     "language": "python",
     "metadata": {},
     "outputs": [],
     "prompt_number": 10
    },
    {
     "cell_type": "code",
     "collapsed": false,
     "input": [
      "# Make sure the clock object is correct, and remove all includes.\n",
      "badKeys = []\n",
      "for key in tree:\n",
      "    if tree[key].get('clock','') == 'clock':\n",
      "        tree[key]={\"timezone\":\"PST+8PDT\", \"stoptime\":\"'2013-01-01 00:00:00'\", \"starttime\":\"'2013-01-01 00:00:00'\", \"clock\":\"clock\"}\n",
      "    if tree[key].get('omftype','') == '#include':\n",
      "        badKeys.append(key)\n",
      "for key in badKeys:\n",
      "    del tree[key]"
     ],
     "language": "python",
     "metadata": {},
     "outputs": [],
     "prompt_number": 13
    },
    {
     "cell_type": "code",
     "collapsed": false,
     "input": [
      "# Make sure the regulator is configured for manual operation.\n",
      "for key in tree:\n",
      "    if tree[key].get('object','') == 'regulator_configuration':\n",
      "        confIndex = key\n",
      "baselineTap = 3 # GLOBAL VARIABLE FOR DEFAULT TAP POSITION\n",
      "tree[confIndex] = { # manual regulation \n",
      "\t'name':'REG27-CONFIG',\n",
      "\t'object':'regulator_configuration',\n",
      "\t'connect_type':'1',\n",
      "\t'raise_taps':'10',\n",
      "\t'lower_taps':'10',\n",
      "\t'CT_phase':'ABC',\n",
      "\t'PT_phase':'ABC',\n",
      "\t'regulation':'0.10', #Yo, 0.10 means at tap_pos 10 we're 10% above 120V.\n",
      "\t'Control':'MANUAL',\n",
      "\t'control_level':'INDIVIDUAL',\n",
      "\t'Type':'A',\n",
      "\t'tap_pos_A':str(baselineTap),\n",
      "\t'tap_pos_B':str(baselineTap),\n",
      "\t'tap_pos_C':str(baselineTap) }"
     ],
     "language": "python",
     "metadata": {},
     "outputs": [],
     "prompt_number": 14
    },
    {
     "cell_type": "code",
     "collapsed": false,
     "input": [
      "# Attach recorders relevant to CVR.\n",
      "recorders = [\n",
      "\t{'object': 'collector',\n",
      "\t'file': 'ZlossesTransformer.csv',\n",
      "\t'group': 'class=transformer',\n",
      "\t'limit': '0',\n",
      "\t'property': 'sum(power_losses_A.real),sum(power_losses_A.imag),sum(power_losses_B.real),sum(power_losses_B.imag),sum(power_losses_C.real),sum(power_losses_C.imag)'},\n",
      "\t{'object': 'collector',\n",
      "\t'file': 'ZlossesUnderground.csv',\n",
      "\t'group': 'class=underground_line',\n",
      "\t'limit': '0',\n",
      "\t'property': 'sum(power_losses_A.real),sum(power_losses_A.imag),sum(power_losses_B.real),sum(power_losses_B.imag),sum(power_losses_C.real),sum(power_losses_C.imag)'},\n",
      "\t{'object': 'collector',\n",
      "\t'file': 'ZlossesOverhead.csv',\n",
      "\t'group': 'class=overhead_line',\n",
      "\t'limit': '0',\n",
      "\t'property': 'sum(power_losses_A.real),sum(power_losses_A.imag),sum(power_losses_B.real),sum(power_losses_B.imag),sum(power_losses_C.real),sum(power_losses_C.imag)'},\n",
      "\t{'object': 'recorder',\n",
      "\t'file': 'Zregulator.csv',\n",
      "\t'limit': '0',\n",
      "\t'parent': 'REG27', #TODO: don't hard code this value.\n",
      "\t'property': 'tap_A,tap_B,tap_C,power_in.real,power_in.imag'},\n",
      "\t{'object': 'collector',\n",
      "\t'file': 'ZvoltageJiggle.csv',\n",
      "\t'group': 'class=triplex_meter',\n",
      "\t'limit': '0',\n",
      "\t'property': 'min(voltage_12.mag),mean(voltage_12.mag),max(voltage_12.mag),std(voltage_12.mag)'},\n",
      "\t{'object': 'recorder',\n",
      "\t'file': 'ZsubstationTop.csv',\n",
      "\t'limit': '0',\n",
      "\t'parent': 'FRIENDSHIP', #TODO: don't hard code this value.\n",
      "\t'property': 'voltage_A,voltage_B,voltage_C'},\n",
      "\t{'object': 'recorder',\n",
      "\t'file': 'ZsubstationBottom.csv',\n",
      "\t'limit': '0',\n",
      "\t'parent': 'node958175REG27', #TODO: don't hard code this value.\n",
      "\t'property': 'voltage_A,voltage_B,voltage_C'} ]\n",
      "biggest = 1 + max(tree.keys())\n",
      "for index, rec in enumerate(recorders):\n",
      "\ttree[biggest + index] = rec"
     ],
     "language": "python",
     "metadata": {},
     "outputs": [],
     "prompt_number": 15
    },
    {
     "cell_type": "code",
     "collapsed": false,
     "input": [
      "# Change constant PF loads to ZIP loads. (See evernote for rationale about 50/50 power/impedance mix.)\n",
      "blankZipModel = {'object':'triplex_load',\n",
      "\t'name':'NAMEVARIABLE',\n",
      "\t'base_power_12':'POWERVARIABLE',\n",
      "\t'power_fraction_12':'0.5',\n",
      "\t'impedance_fraction_12':'0.5',\n",
      "\t'power_pf_12':'0.9', #TODO: we can probably get this PF data from the Milsoft loads.\n",
      "\t'impedance_pf_12':'0.97',\n",
      "\t'nominal_voltage':'120',\n",
      "\t'phases':'PHASESVARIABLE',\n",
      "\t'parent':'PARENTVARIABLE'}\n",
      "def powerClean(powerStr):\n",
      "\t''' take 3339.39+1052.29j to 3339.39 '''\n",
      "\treturn powerStr[0:powerStr.find('+')]\n",
      "for key in tree:\n",
      "\tif tree[key].get('object','') == 'triplex_node':\n",
      "\t\t# Get existing variables.\n",
      "\t\tname = tree[key].get('name','')\n",
      "\t\tpower = tree[key].get('power_12','')\n",
      "\t\tparent = tree[key].get('parent','')\n",
      "\t\tphases = tree[key].get('phases','')\n",
      "\t\t# Replace object and reintroduce variables.\n",
      "\t\ttree[key] = copy(blankZipModel)\n",
      "\t\ttree[key]['name'] = name\n",
      "\t\ttree[key]['base_power_12'] = powerClean(power)\n",
      "\t\ttree[key]['parent'] = parent\n",
      "\t\ttree[key]['phases'] = phases"
     ],
     "language": "python",
     "metadata": {},
     "outputs": [],
     "prompt_number": 16
    },
    {
     "cell_type": "code",
     "collapsed": false,
     "input": [
      "# Function to determine how low we can tap down in the CVR case:\n",
      "def loweringPotential(baseLine):\n",
      "\t''' Given a baseline end of line voltage, how many more percent can we shave off the substation voltage? '''\n",
      "\t''' testsWePass = [122.0,118.0,200.0,110.0] '''\n",
      "\tlower = int(math.floor((baseLine/114.0-1)*100)) - 1\n",
      "\t# If lower is negative, we can't return it because we'd be undervolting beyond what baseline already was!\n",
      "\tif lower < 0:\n",
      "\t\treturn baselineTap\n",
      "\telse:\n",
      "\t\treturn baselineTap - lower"
     ],
     "language": "python",
     "metadata": {},
     "outputs": [],
     "prompt_number": 17
    },
    {
     "cell_type": "code",
     "collapsed": false,
     "input": [
      "powerflows = []\n",
      "# Run all the powerflows.\n",
      "for doingCvr in [False, True]:\n",
      "\t# For each load level in the tenLoadLevels, run a powerflow with the load objects scaled to the level.\n",
      "\tfor desiredLoad in tenLoadLevels:\n",
      "\t\t# Find the total load that was defined in Milsoft:\n",
      "\t\tloadList = []\n",
      "\t\tfor key in tree:\n",
      "\t\t\tif tree[key].get('object','') == 'triplex_load':\n",
      "\t\t\t\tloadList.append(tree[key].get('base_power_12',''))\n",
      "\t\ttotalLoad = sum([float(x) for x in loadList])\n",
      "\t\t# Rescale each triplex load:\n",
      "\t\tfor key in tree:\n",
      "\t\t\tif tree[key].get('object','') == 'triplex_load':\n",
      "\t\t\t\tcurrentPow = float(tree[key]['base_power_12'])\n",
      "\t\t\t\tratio = desiredLoad/totalLoad\n",
      "\t\t\t\ttree[key]['base_power_12'] = str(currentPow*ratio)\n",
      "\t\t# If we're doing CVR then lower the voltage.\n",
      "\t\tif doingCvr:\n",
      "\t\t\t# Find the minimum voltage we can tap down to:\n",
      "\t\t\tnewTapPos = baselineTap\n",
      "\t\t\tfor row in powerflows:\n",
      "\t\t\t\tif row.get('loadLevel','') == desiredLoad:\n",
      "\t\t\t\t\tnewTapPos = loweringPotential(row.get('lowVoltage',114))\n",
      "\t\t\t# Tap it down to there.\n",
      "\t\t\t# TODO: do each phase separately because that's how it's done in the field... Oof.\n",
      "\t\t\ttree[confIndex]['tap_pos_A'] = str(newTapPos)\n",
      "\t\t\ttree[confIndex]['tap_pos_B'] = str(newTapPos)\n",
      "\t\t\ttree[confIndex]['tap_pos_C'] = str(newTapPos)\n",
      "\t\t# Run the model through gridlab and put outputs in the table.\n",
      "\t\toutput = gridlabd.runInFilesystem(tree, keepFiles=True)\n",
      "\t\tp = output['Zregulator.csv']['power_in.real'][0]\n",
      "\t\tq = output['Zregulator.csv']['power_in.imag'][0]\n",
      "\t\ts = math.sqrt(p**2+q**2)\n",
      "\t\tlossTotal = 0.0\n",
      "\t\tfor device in ['ZlossesOverhead.csv','ZlossesTransformer.csv','ZlossesUnderground.csv']:\n",
      "\t\t\tfor letter in ['A','B','C']:\n",
      "\t\t\t\tr = output[device]['sum(power_losses_' + letter + '.real)'][0]\n",
      "\t\t\t\ti = output[device]['sum(power_losses_' + letter + '.imag)'][0]\n",
      "\t\t\t\tlossTotal += math.sqrt(r**2 + i**2)\n",
      "\t\t## Entire output:\n",
      "\t\tpowerflows.append({\n",
      "\t\t\t'doingCvr':doingCvr,\n",
      "\t\t\t'loadLevel':desiredLoad,\n",
      "\t\t\t'realPower':p,\n",
      "\t\t\t'powerFactor':p/s,\n",
      "\t\t\t'losses':lossTotal,\n",
      "\t\t\t'subVoltage': (\n",
      "\t\t\t\toutput['ZsubstationBottom.csv']['voltage_A'][0] + \n",
      "\t\t\t\toutput['ZsubstationBottom.csv']['voltage_B'][0] + \n",
      "\t\t\t\toutput['ZsubstationBottom.csv']['voltage_C'][0] )/3/60,\n",
      "\t\t\t'lowVoltage':output['ZvoltageJiggle.csv']['min(voltage_12.mag)'][0]/2,\n",
      "\t\t\t'highVoltage':output['ZvoltageJiggle.csv']['max(voltage_12.mag)'][0]/2 })"
     ],
     "language": "python",
     "metadata": {},
     "outputs": [
      {
       "ename": "KeyError",
       "evalue": "'Zregulator.csv'",
       "output_type": "pyerr",
       "traceback": [
        "\u001b[1;31m---------------------------------------------------------------------------\u001b[0m\n\u001b[1;31mKeyError\u001b[0m                                  Traceback (most recent call last)",
        "\u001b[1;32m<ipython-input-21-2aa9cc1732f5>\u001b[0m in \u001b[0;36m<module>\u001b[1;34m()\u001b[0m\n\u001b[0;32m     30\u001b[0m                 \u001b[1;31m# Run the model through gridlab and put outputs in the table.\u001b[0m\u001b[1;33m\u001b[0m\u001b[1;33m\u001b[0m\u001b[0m\n\u001b[0;32m     31\u001b[0m                 \u001b[0moutput\u001b[0m \u001b[1;33m=\u001b[0m \u001b[0mgridlabd\u001b[0m\u001b[1;33m.\u001b[0m\u001b[0mrunInFilesystem\u001b[0m\u001b[1;33m(\u001b[0m\u001b[0mtree\u001b[0m\u001b[1;33m,\u001b[0m \u001b[0mkeepFiles\u001b[0m\u001b[1;33m=\u001b[0m\u001b[0mTrue\u001b[0m\u001b[1;33m)\u001b[0m\u001b[1;33m\u001b[0m\u001b[0m\n\u001b[1;32m---> 32\u001b[1;33m                 \u001b[0mp\u001b[0m \u001b[1;33m=\u001b[0m \u001b[0moutput\u001b[0m\u001b[1;33m[\u001b[0m\u001b[1;34m'Zregulator.csv'\u001b[0m\u001b[1;33m]\u001b[0m\u001b[1;33m[\u001b[0m\u001b[1;34m'power_in.real'\u001b[0m\u001b[1;33m]\u001b[0m\u001b[1;33m[\u001b[0m\u001b[1;36m0\u001b[0m\u001b[1;33m]\u001b[0m\u001b[1;33m\u001b[0m\u001b[0m\n\u001b[0m\u001b[0;32m     33\u001b[0m                 \u001b[0mq\u001b[0m \u001b[1;33m=\u001b[0m \u001b[0moutput\u001b[0m\u001b[1;33m[\u001b[0m\u001b[1;34m'Zregulator.csv'\u001b[0m\u001b[1;33m]\u001b[0m\u001b[1;33m[\u001b[0m\u001b[1;34m'power_in.imag'\u001b[0m\u001b[1;33m]\u001b[0m\u001b[1;33m[\u001b[0m\u001b[1;36m0\u001b[0m\u001b[1;33m]\u001b[0m\u001b[1;33m\u001b[0m\u001b[0m\n\u001b[0;32m     34\u001b[0m                 \u001b[0ms\u001b[0m \u001b[1;33m=\u001b[0m \u001b[0mmath\u001b[0m\u001b[1;33m.\u001b[0m\u001b[0msqrt\u001b[0m\u001b[1;33m(\u001b[0m\u001b[0mp\u001b[0m\u001b[1;33m**\u001b[0m\u001b[1;36m2\u001b[0m\u001b[1;33m+\u001b[0m\u001b[0mq\u001b[0m\u001b[1;33m**\u001b[0m\u001b[1;36m2\u001b[0m\u001b[1;33m)\u001b[0m\u001b[1;33m\u001b[0m\u001b[0m\n",
        "\u001b[1;31mKeyError\u001b[0m: 'Zregulator.csv'"
       ]
      }
     ],
     "prompt_number": 21
    },
    {
     "cell_type": "code",
     "collapsed": false,
     "input": [
      "# For a given load level, find two points to interpolate on.\n",
      "def getInterpPoints(t):\n",
      "\t''' Find the two points we can interpolate from. '''\n",
      "\t''' tests pass on [tenLoadLevels[0],tenLoadLevels[5]+499,tenLoadLevels[-1]-988] '''\n",
      "\tloc = sorted(tenLoadLevels + [t]).index(t)\n",
      "\tif loc==0:\n",
      "\t\treturn (tenLoadLevels[0],tenLoadLevels[1])\n",
      "\telif loc>len(tenLoadLevels)-2:\n",
      "\t\treturn (tenLoadLevels[-2],tenLoadLevels[-1])\n",
      "\telse:\n",
      "\t\treturn (tenLoadLevels[loc-1],tenLoadLevels[loc+1])"
     ],
     "language": "python",
     "metadata": {},
     "outputs": []
    },
    {
     "cell_type": "code",
     "collapsed": false,
     "input": [
      "# Calculate peak reduction.\n",
      "for row in monthData:\n",
      "\tpeak = row['histPeak']\n",
      "\tpeakPoints = getInterpPoints(peak)\n",
      "\tpeakTopBase = [x for x in powerflows if x.get('loadLevel','') == peakPoints[-1] and x.get('doingCvr','') == False][0]\n",
      "\tpeakTopCvr = [x for x in powerflows if x.get('loadLevel','') == peakPoints[-1] and x.get('doingCvr','') == True][0]\n",
      "\tpeakBottomBase = [x for x in powerflows if x.get('loadLevel','') == peakPoints[0] and x.get('doingCvr','') == False][0]\n",
      "\tpeakBottomCvr = [x for x in powerflows if x.get('loadLevel','') == peakPoints[0] and x.get('doingCvr','') == True][0]\n",
      "\t# Linear interpolation so we aren't running umpteen million loadflows.\n",
      "\tx = (peakPoints[0],peakPoints[1])\n",
      "\ty = (peakTopBase['realPower'] - peakTopCvr['realPower'],\n",
      "\t\t peakBottomBase['realPower'] - peakBottomCvr['realPower'])\n",
      "\tpeakRed = y[0] + (y[1] - y[0]) * (peak - x[0]) / (x[1] - x[0])\n",
      "\trow['peakReduction'] = peakRed"
     ],
     "language": "python",
     "metadata": {},
     "outputs": []
    },
    {
     "cell_type": "code",
     "collapsed": false,
     "input": [
      "# Calculate energy reduction and loss reduction based on average load.\n",
      "for row in monthData:\n",
      "\tavgEnergy = row['histAverage']\n",
      "\tenergyPoints = getInterpPoints(avgEnergy)\n",
      "\tavgTopBase = [x for x in powerflows if x.get('loadLevel','') == energyPoints[-1] and x.get('doingCvr','') == False][0]\n",
      "\tavgTopCvr = [x for x in powerflows if x.get('loadLevel','') == energyPoints[-1] and x.get('doingCvr','') == True][0]\n",
      "\tavgBottomBase = [x for x in powerflows if x.get('loadLevel','') == energyPoints[0] and x.get('doingCvr','') == False][0]\n",
      "\tavgBottomCvr = [x for x in powerflows if x.get('loadLevel','') == energyPoints[0] and x.get('doingCvr','') == True][0]\n",
      "\t# Linear interpolation so we aren't running umpteen million loadflows.\n",
      "\tx = (energyPoints[0], energyPoints[1])\n",
      "\ty = (avgTopBase['realPower'] - avgTopCvr['realPower'],\n",
      "\t\tavgBottomBase['realPower'] - avgBottomCvr['realPower'])\n",
      "\tenergyRed = y[0] + (y[1] - y[0]) * (avgEnergy - x[0]) / (x[1] - x[0])\n",
      "\trow['energyReduction'] = energyRed\n",
      "\tlossY = (avgTopBase['losses'] - avgTopCvr['losses'],\n",
      "\t\tavgBottomBase['losses'] - avgBottomCvr['losses'])\n",
      "\tlossRed = lossY[0] + (lossY[1] - lossY[0]) * (avgEnergy - x[0]) / (x[1] - x[0])\n",
      "\trow['lossReduction'] = lossRed"
     ],
     "language": "python",
     "metadata": {},
     "outputs": []
    },
    {
     "cell_type": "code",
     "collapsed": false,
     "input": [
      "# Multiply by dollars.\n",
      "for row in monthData:\n",
      "\trow['energyReductionDollars'] = row['energyReduction'] * (rates['wholesaleEnergyCostPerKwh'] - rates['retailEnergyCostPerKwh'])\n",
      "\trow['peakReductionDollars'] = row['peakReduction'] * rates['peakDemandCost' + row['season'] + 'PerKw']\n",
      "\trow['lossReductionDollars'] = row['lossReduction'] * rates['wholesaleEnergyCostPerKwh']"
     ],
     "language": "python",
     "metadata": {},
     "outputs": []
    },
    {
     "cell_type": "markdown",
     "metadata": {},
     "source": [
      "## Section 4: Pretty Output"
     ]
    },
    {
     "cell_type": "code",
     "collapsed": false,
     "input": [
      "# Helper functions for drawing HTML tables.\n",
      "class ListTable(list):\n",
      "    ''' Render list as an HTML Table in IPython Notebook. '''\n",
      "    def _repr_html_(self):\n",
      "        html = [\"<table>\"]\n",
      "        for row in self:\n",
      "            html.append(\"<tr>\")           \n",
      "            for col in row:\n",
      "                html.append(\"<td>{0}</td>\".format(col))            \n",
      "            html.append(\"</tr>\")\n",
      "        html.append(\"</table>\")\n",
      "        return ''.join(html)\n",
      "def dictalToMatrix(dictList):\n",
      "    ''' Take our dictal format to a matrix. '''\n",
      "    matrix = [dictList[0].keys()]\n",
      "    for row in dictList:\n",
      "        matrix.append(row.values())\n",
      "    return matrix"
     ],
     "language": "python",
     "metadata": {},
     "outputs": []
    },
    {
     "cell_type": "code",
     "collapsed": false,
     "input": [
      "# Powerflow results.\n",
      "ListTable(dictalToMatrix(powerflows))"
     ],
     "language": "python",
     "metadata": {},
     "outputs": []
    },
    {
     "cell_type": "code",
     "collapsed": false,
     "input": [
      "# Monetary results.\n",
      "ListTable(dictalToMatrix(monthData))"
     ],
     "language": "python",
     "metadata": {},
     "outputs": []
    },
    {
     "cell_type": "code",
     "collapsed": false,
     "input": [
      "# Graph the money data.\n",
      "fig = plt.figure(figsize=(17,10))\n",
      "indices = [r['monthName'] for r in monthData]\n",
      "d1 = [r['energyReductionDollars'] for r in monthData]\n",
      "d2 = [r['lossReductionDollars'] for r in monthData]\n",
      "d3 = [r['peakReductionDollars'] for r in monthData]\n",
      "ticks = range(len(d1))\n",
      "plt.bar(ticks,d1,color='red')\n",
      "plt.bar(ticks,d2,color='green')\n",
      "plt.bar(ticks,d3,color='blue',yerr=d2)\n",
      "plt.xticks([t+0.5 for t in ticks],indices)\n",
      "plt.ylabel('Utility Savings ($)')\n",
      "plt.show()"
     ],
     "language": "python",
     "metadata": {},
     "outputs": []
    },
    {
     "cell_type": "markdown",
     "metadata": {},
     "source": [
      "## Section 5: Extra Code Parking Lot"
     ]
    },
    {
     "cell_type": "code",
     "collapsed": false,
     "input": [
      "hackTree = feeder.parse('sourceData/ACEC-FriendshipInstrumented.glm')\n",
      "\n",
      "# Run Gridlab once and show some voltage info on a manually instrumented glm.\n",
      "def singleGridlabRun():\n",
      "    out = gridlabd.runInFilesystem(hackTree)\n",
      "    p = out['Zregulator.csv']['power_in.real'][0]\n",
      "    distributionVoltage = (out['ZsubstationBottom.csv']['voltage_A'][0] + out['ZsubstationBottom.csv']['voltage_B'][0] + out['ZsubstationBottom.csv']['voltage_C'][0])/3\n",
      "    print 'Real Power: ', p\n",
      "    print 'Voltage at Substation (120V base)', distributionVoltage/60\n",
      "    (vmin,vmean,vmax) = (\n",
      "        out['ZVoltageJiggle.csv']['min(voltage_12.mag)'][0],\n",
      "        out['ZVoltageJiggle.csv']['mean(voltage_12.mag)'][0],\n",
      "        out['ZVoltageJiggle.csv']['max(voltage_12.mag)'][0])\n",
      "    print 'Voltage profile:', vmin/2.0, vmean/2.0, vmax/2.0\n",
      "    return out\n",
      "\n",
      "rawOutput = singleGridlabRun()\n",
      "\n",
      "# Looping process to get the substation transformer tap settings that will minimize end of line voltage.\n",
      "def tapRun(tapPos):\n",
      "    hackTree[8]['tap_pos_A']=str(tapPos)\n",
      "    hackTree[8]['tap_pos_B']=str(tapPos)\n",
      "    hackTree[8]['tap_pos_C']=str(tapPos)\n",
      "    out = gridlabd.runInFilesystem(hackTree)\n",
      "    return out['ZVoltageJiggle.csv']['min(voltage_12.mag)'][0]/2.0\n",
      "\n",
      "tap = -2\n",
      "outV = 100\n",
      "while outV<114:\n",
      "    outV = tapRun(tap)\n",
      "    print 'Testing tap', tap, 'and got', outV\n",
      "    tap += 1\n",
      "\n",
      "print tap-1, 'IS THE LIMSUP WINNER!'"
     ],
     "language": "python",
     "metadata": {},
     "outputs": []
    }
   ],
   "metadata": {}
  }
 ]
}