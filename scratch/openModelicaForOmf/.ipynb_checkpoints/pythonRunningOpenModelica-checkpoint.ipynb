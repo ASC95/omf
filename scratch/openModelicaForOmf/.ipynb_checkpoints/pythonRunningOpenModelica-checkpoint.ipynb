{
 "metadata": {
  "name": ""
 },
 "nbformat": 3,
 "nbformat_minor": 0,
 "worksheets": [
  {
   "cells": [
    {
     "cell_type": "code",
     "collapsed": false,
     "input": [
      "ls"
     ],
     "language": "python",
     "metadata": {},
     "outputs": [
      {
       "output_type": "stream",
       "stream": "stdout",
       "text": [
        " Volume in drive C is Windows7\n",
        " Volume Serial Number is B2D8-5773\n",
        "\n",
        " Directory of C:\\Users\\dwp0\\Dropbox\\OMF\\openModelicaForOmf\n",
        "\n",
        "01/21/2014  03:01 PM    <DIR>          .\n",
        "01/21/2014  03:01 PM    <DIR>          ..\n",
        "01/21/2014  03:02 PM             2,680 pythonRunningOpenModelica.ipynb\n",
        "01/21/2014  12:18 PM                83 runTransformer.mos\n",
        "01/21/2014  02:49 PM            50,683 SimpleTransformerPinney.c\n",
        "01/21/2014  02:49 PM        10,260,359 SimpleTransformerPinney.exe\n",
        "01/21/2014  02:49 PM                 0 SimpleTransformerPinney.libs\n",
        "01/21/2014  02:49 PM                 0 SimpleTransformerPinney.log\n",
        "01/21/2014  02:49 PM             1,810 SimpleTransformerPinney.makefile\n",
        "01/21/2014  02:49 PM            39,686 SimpleTransformerPinney.o\n",
        "01/21/2014  02:49 PM             1,452 SimpleTransformerPinney_functions.c\n",
        "01/21/2014  02:49 PM               284 SimpleTransformerPinney_functions.h\n",
        "01/21/2014  02:49 PM           163,058 SimpleTransformerPinney_info.xml\n",
        "01/21/2014  02:49 PM            68,235 SimpleTransformerPinney_init.xml\n",
        "01/21/2014  02:49 PM            29,688 SimpleTransformerPinney_model.h\n",
        "01/21/2014  02:49 PM               143 SimpleTransformerPinney_records.c\n",
        "01/21/2014  02:49 PM               452 SimpleTransformerPinney_records.o\n",
        "01/21/2014  02:49 PM         9,614,975 SimpleTransformerPinney_res.mat\n",
        "01/21/2014  11:59 AM             4,454 transformer.mo\n",
        "              17 File(s)     20,238,042 bytes\n",
        "               2 Dir(s)   7,649,689,600 bytes free\n"
       ]
      }
     ],
     "prompt_number": 4
    },
    {
     "cell_type": "code",
     "collapsed": false,
     "input": [
      "import OMPython"
     ],
     "language": "python",
     "metadata": {},
     "outputs": [],
     "prompt_number": 13
    },
    {
     "cell_type": "code",
     "collapsed": false,
     "input": [
      "OMPython.execute('loadModel(Modelica)')\n",
      "OMPython.execute('loadFile(\"transformer.mo\")')\n",
      "OMPython.execute('simulate(SimpleTransformerPinney)')"
     ],
     "language": "python",
     "metadata": {},
     "outputs": [
      {
       "metadata": {},
       "output_type": "pyout",
       "prompt_number": 14,
       "text": [
        "{'SimulationOptions': {'cflags': \"''\",\n",
        "  'fileNamePrefix': \"'SimpleTransformerPinney'\",\n",
        "  'measureTime': False,\n",
        "  'method': \"'dassl'\",\n",
        "  'numberOfIntervals': 50000,\n",
        "  'options': \"''\",\n",
        "  'outputFormat': \"'mat'\",\n",
        "  'simflags': \"''\",\n",
        "  'startTime': 0.0,\n",
        "  'stopTime': 50.0,\n",
        "  'tolerance': 1e-06,\n",
        "  'variableFilter': \"'.*'\"},\n",
        " 'SimulationResults': {'messages': '\"\"',\n",
        "  'resultFile': '\"C:/Users/dwp0/Dropbox/OMF/openModelicaForOmf/SimpleTransformerPinney_res.mat\"',\n",
        "  'timeBackend': 0.020468471731715416,\n",
        "  'timeCompile': 2.325916266714963,\n",
        "  'timeFrontend': 0.2252334812400012,\n",
        "  'timeSimCode': 0.0071728696912070995,\n",
        "  'timeSimulation': 0.8677838147846297,\n",
        "  'timeTemplates': 0.12468713211989496,\n",
        "  'timeTotal': 3.67744906275468}}"
       ]
      }
     ],
     "prompt_number": 14
    },
    {
     "cell_type": "code",
     "collapsed": false,
     "input": [
      "# Do stuff with the results.\n",
      "import scipy.io as sio\n",
      "outMat = sio.loadmat(\"SimpleTransformerPinney_res.mat\")"
     ],
     "language": "python",
     "metadata": {},
     "outputs": [
      {
       "ename": "ImportError",
       "evalue": "No module named scipy",
       "output_type": "pyerr",
       "traceback": [
        "\u001b[1;31m---------------------------------------------------------------------------\u001b[0m\n\u001b[1;31mImportError\u001b[0m                               Traceback (most recent call last)",
        "\u001b[1;32m<ipython-input-16-e06968b5165f>\u001b[0m in \u001b[0;36m<module>\u001b[1;34m()\u001b[0m\n\u001b[0;32m      1\u001b[0m \u001b[1;31m# Do stuff with the results.\u001b[0m\u001b[1;33m\u001b[0m\u001b[1;33m\u001b[0m\u001b[0m\n\u001b[1;32m----> 2\u001b[1;33m \u001b[1;32mimport\u001b[0m \u001b[0mscipy\u001b[0m\u001b[1;33m\u001b[0m\u001b[0m\n\u001b[0m\u001b[0;32m      3\u001b[0m \u001b[0moutMat\u001b[0m \u001b[1;33m=\u001b[0m \u001b[0mscipy\u001b[0m\u001b[1;33m.\u001b[0m\u001b[0msio\u001b[0m\u001b[1;33m.\u001b[0m\u001b[0mloadmat\u001b[0m\u001b[1;33m(\u001b[0m\u001b[1;34m\"SimpleTransformerPinney_res.mat\"\u001b[0m\u001b[1;33m)\u001b[0m\u001b[1;33m\u001b[0m\u001b[0m\n",
        "\u001b[1;31mImportError\u001b[0m: No module named scipy"
       ]
      }
     ],
     "prompt_number": 16
    },
    {
     "cell_type": "code",
     "collapsed": false,
     "input": [
      "# Cleanup when we're finished (?).\n",
      "OMPython.server.kill()"
     ],
     "language": "python",
     "metadata": {},
     "outputs": [
      {
       "ename": "WindowsError",
       "evalue": "[Error 5] Access is denied",
       "output_type": "pyerr",
       "traceback": [
        "\u001b[1;31m---------------------------------------------------------------------------\u001b[0m\n\u001b[1;31mWindowsError\u001b[0m                              Traceback (most recent call last)",
        "\u001b[1;32m<ipython-input-12-b9900ce2ed85>\u001b[0m in \u001b[0;36m<module>\u001b[1;34m()\u001b[0m\n\u001b[0;32m      1\u001b[0m \u001b[1;31m# Cleanup when we're finished (?).\u001b[0m\u001b[1;33m\u001b[0m\u001b[1;33m\u001b[0m\u001b[0m\n\u001b[1;32m----> 2\u001b[1;33m \u001b[0mOMPython\u001b[0m\u001b[1;33m.\u001b[0m\u001b[0mserver\u001b[0m\u001b[1;33m.\u001b[0m\u001b[0mkill\u001b[0m\u001b[1;33m(\u001b[0m\u001b[1;33m)\u001b[0m\u001b[1;33m\u001b[0m\u001b[0m\n\u001b[0m",
        "\u001b[1;32mc:\\Python27\\lib\\subprocess.pyc\u001b[0m in \u001b[0;36mterminate\u001b[1;34m(self)\u001b[0m\n\u001b[0;32m   1017\u001b[0m             \"\"\"Terminates the process\n\u001b[0;32m   1018\u001b[0m             \"\"\"\n\u001b[1;32m-> 1019\u001b[1;33m             \u001b[0m_subprocess\u001b[0m\u001b[1;33m.\u001b[0m\u001b[0mTerminateProcess\u001b[0m\u001b[1;33m(\u001b[0m\u001b[0mself\u001b[0m\u001b[1;33m.\u001b[0m\u001b[0m_handle\u001b[0m\u001b[1;33m,\u001b[0m \u001b[1;36m1\u001b[0m\u001b[1;33m)\u001b[0m\u001b[1;33m\u001b[0m\u001b[0m\n\u001b[0m\u001b[0;32m   1020\u001b[0m \u001b[1;33m\u001b[0m\u001b[0m\n\u001b[0;32m   1021\u001b[0m         \u001b[0mkill\u001b[0m \u001b[1;33m=\u001b[0m \u001b[0mterminate\u001b[0m\u001b[1;33m\u001b[0m\u001b[0m\n",
        "\u001b[1;31mWindowsError\u001b[0m: [Error 5] Access is denied"
       ]
      }
     ],
     "prompt_number": 12
    },
    {
     "cell_type": "code",
     "collapsed": false,
     "input": [],
     "language": "python",
     "metadata": {},
     "outputs": []
    }
   ],
   "metadata": {}
  }
 ]
}