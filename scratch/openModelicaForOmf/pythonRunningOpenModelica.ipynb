{
 "metadata": {
  "name": ""
 },
 "nbformat": 3,
 "nbformat_minor": 0,
 "worksheets": [
  {
   "cells": [
    {
     "cell_type": "code",
     "collapsed": false,
     "input": [
      "ls"
     ],
     "language": "python",
     "metadata": {},
     "outputs": [
      {
       "output_type": "stream",
       "stream": "stdout",
       "text": [
        " Volume in drive C is Windows7\n",
        " Volume Serial Number is B2D8-5773\n",
        "\n",
        " Directory of C:\\Users\\dwp0\\Dropbox\\OMF\\openModelicaForOmf\n",
        "\n",
        "01/21/2014  04:40 PM    <DIR>          .\n",
        "01/21/2014  04:40 PM    <DIR>          ..\n",
        "01/21/2014  04:40 PM    <DIR>          .ipynb_checkpoints\n",
        "01/21/2014  04:40 PM             7,667 pythonRunningOpenModelica.ipynb\n",
        "01/21/2014  12:18 PM                83 runTransformer.mos\n",
        "01/21/2014  03:15 PM            50,683 SimpleTransformerPinney.c\n",
        "01/21/2014  03:15 PM        10,260,359 SimpleTransformerPinney.exe\n",
        "01/21/2014  03:15 PM                 0 SimpleTransformerPinney.libs\n",
        "01/21/2014  03:15 PM                 0 SimpleTransformerPinney.log\n",
        "01/21/2014  03:15 PM             1,810 SimpleTransformerPinney.makefile\n",
        "01/21/2014  03:15 PM            39,686 SimpleTransformerPinney.o\n",
        "01/21/2014  03:15 PM             1,452 SimpleTransformerPinney_functions.c\n",
        "01/21/2014  03:15 PM               284 SimpleTransformerPinney_functions.h\n",
        "01/21/2014  03:15 PM           163,058 SimpleTransformerPinney_info.xml\n",
        "01/21/2014  03:15 PM            68,235 SimpleTransformerPinney_init.xml\n",
        "01/21/2014  03:15 PM            29,688 SimpleTransformerPinney_model.h\n",
        "01/21/2014  03:15 PM               143 SimpleTransformerPinney_records.c\n",
        "01/21/2014  03:15 PM               452 SimpleTransformerPinney_records.o\n",
        "01/21/2014  03:15 PM         9,614,975 SimpleTransformerPinney_res.mat\n",
        "01/21/2014  03:54 PM             4,949 transformer.mo\n",
        "              17 File(s)     20,243,524 bytes\n",
        "               3 Dir(s)   7,442,767,872 bytes free\n"
       ]
      }
     ],
     "prompt_number": 1
    },
    {
     "cell_type": "code",
     "collapsed": false,
     "input": [
      "import OMPython"
     ],
     "language": "python",
     "metadata": {},
     "outputs": [
      {
       "output_type": "stream",
       "stream": "stdout",
       "text": [
        "OMC Server is up and running at file:///c:\\users\\dwp0\\appdata\\local\\temp\\openmodelica.objid.72a8d995c8f54ccfa774d1363e431558\n",
        "\n"
       ]
      }
     ],
     "prompt_number": 2
    },
    {
     "cell_type": "code",
     "collapsed": false,
     "input": [
      "OMPython.execute('loadModel(Modelica)')\n",
      "OMPython.execute('loadFile(\"transformer.mo\")')\n",
      "OMPython.execute('simulate(SimpleTransformerPinney)')"
     ],
     "language": "python",
     "metadata": {},
     "outputs": [
      {
       "metadata": {},
       "output_type": "pyout",
       "prompt_number": 3,
       "text": [
        "{'SimulationOptions': {'cflags': \"''\",\n",
        "  'fileNamePrefix': \"'SimpleTransformerPinney'\",\n",
        "  'measureTime': False,\n",
        "  'method': \"'dassl'\",\n",
        "  'numberOfIntervals': 50000,\n",
        "  'options': \"''\",\n",
        "  'outputFormat': \"'mat'\",\n",
        "  'simflags': \"''\",\n",
        "  'startTime': 0.0,\n",
        "  'stopTime': 50.0,\n",
        "  'tolerance': 1e-06,\n",
        "  'variableFilter': \"'.*'\"},\n",
        " 'SimulationResults': {'messages': '\"\"',\n",
        "  'resultFile': '\"C:/Users/dwp0/Dropbox/OMF/openModelicaForOmf/SimpleTransformerPinney_res.mat\"',\n",
        "  'timeBackend': 0.02080533671405717,\n",
        "  'timeCompile': 2.627785022186,\n",
        "  'timeFrontend': 0.22333665368710193,\n",
        "  'timeSimCode': 0.006855926831476953,\n",
        "  'timeSimulation': 0.9621654743578134,\n",
        "  'timeTemplates': 0.14032599837000814,\n",
        "  'timeTotal': 3.9869872317305}}"
       ]
      }
     ],
     "prompt_number": 3
    },
    {
     "cell_type": "code",
     "collapsed": false,
     "input": [
      "# Do stuff with the results.\n",
      "import scipy\n",
      "#outMat = sio.loadmat(\"SimpleTransformerPinney_res.mat\")"
     ],
     "language": "python",
     "metadata": {},
     "outputs": [
      {
       "ename": "ImportError",
       "evalue": "No module named scipy",
       "output_type": "pyerr",
       "traceback": [
        "\u001b[1;31m---------------------------------------------------------------------------\u001b[0m\n\u001b[1;31mImportError\u001b[0m                               Traceback (most recent call last)",
        "\u001b[1;32m<ipython-input-5-2239269a396d>\u001b[0m in \u001b[0;36m<module>\u001b[1;34m()\u001b[0m\n\u001b[0;32m      1\u001b[0m \u001b[1;31m# Do stuff with the results.\u001b[0m\u001b[1;33m\u001b[0m\u001b[1;33m\u001b[0m\u001b[0m\n\u001b[1;32m----> 2\u001b[1;33m \u001b[1;32mimport\u001b[0m \u001b[0mscipy\u001b[0m\u001b[1;33m\u001b[0m\u001b[0m\n\u001b[0m\u001b[0;32m      3\u001b[0m \u001b[1;31m#outMat = sio.loadmat(\"SimpleTransformerPinney_res.mat\")\u001b[0m\u001b[1;33m\u001b[0m\u001b[1;33m\u001b[0m\u001b[0m\n",
        "\u001b[1;31mImportError\u001b[0m: No module named scipy"
       ]
      }
     ],
     "prompt_number": 5
    },
    {
     "cell_type": "code",
     "collapsed": false,
     "input": [
      "# Cleanup when we're finished (?).\n",
      "OMPython.server.kill()"
     ],
     "language": "python",
     "metadata": {},
     "outputs": []
    },
    {
     "cell_type": "code",
     "collapsed": false,
     "input": [],
     "language": "python",
     "metadata": {},
     "outputs": []
    }
   ],
   "metadata": {}
  }
 ]
}